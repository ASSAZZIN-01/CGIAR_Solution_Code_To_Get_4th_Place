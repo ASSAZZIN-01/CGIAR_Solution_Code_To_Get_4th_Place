{
  "nbformat": 4,
  "nbformat_minor": 0,
  "metadata": {
    "colab": {
      "name": "CGIAR_SOLUTION_4th_Place.ipynb",
      "provenance": [],
      "collapsed_sections": [
        "WXV6QDj91Bdz",
        "a1NgCJhD12wT",
        "1Ca7-rk936-C",
        "-2RLczu94vPi",
        "RboTcLZq5Q4x",
        "JhDOMZcF6Vzp",
        "OukE9O0y-r0m",
        "NhJJ7Ar8BIIJ"
      ],
      "include_colab_link": true
    },
    "kernelspec": {
      "name": "python3",
      "display_name": "Python 3"
    },
    "widgets": {
      "application/vnd.jupyter.widget-state+json": {
        "ab15b1186eb0455992f3f458d28c268d": {
          "model_module": "@jupyter-widgets/controls",
          "model_name": "HBoxModel",
          "state": {
            "_view_name": "HBoxView",
            "_dom_classes": [],
            "_model_name": "HBoxModel",
            "_view_module": "@jupyter-widgets/controls",
            "_model_module_version": "1.5.0",
            "_view_count": null,
            "_view_module_version": "1.5.0",
            "box_style": "",
            "layout": "IPY_MODEL_8a323c6b454e4f96bb3a7ab2839a2849",
            "_model_module": "@jupyter-widgets/controls",
            "children": [
              "IPY_MODEL_d92d38f6760b4225a961c9a655debbe2",
              "IPY_MODEL_8aac447fd18d44949045260b5f7353ed"
            ]
          }
        },
        "8a323c6b454e4f96bb3a7ab2839a2849": {
          "model_module": "@jupyter-widgets/base",
          "model_name": "LayoutModel",
          "state": {
            "_view_name": "LayoutView",
            "grid_template_rows": null,
            "right": null,
            "justify_content": null,
            "_view_module": "@jupyter-widgets/base",
            "overflow": null,
            "_model_module_version": "1.2.0",
            "_view_count": null,
            "flex_flow": null,
            "width": null,
            "min_width": null,
            "border": null,
            "align_items": null,
            "bottom": null,
            "_model_module": "@jupyter-widgets/base",
            "top": null,
            "grid_column": null,
            "overflow_y": null,
            "overflow_x": null,
            "grid_auto_flow": null,
            "grid_area": null,
            "grid_template_columns": null,
            "flex": null,
            "_model_name": "LayoutModel",
            "justify_items": null,
            "grid_row": null,
            "max_height": null,
            "align_content": null,
            "visibility": null,
            "align_self": null,
            "height": null,
            "min_height": null,
            "padding": null,
            "grid_auto_rows": null,
            "grid_gap": null,
            "max_width": null,
            "order": null,
            "_view_module_version": "1.2.0",
            "grid_template_areas": null,
            "object_position": null,
            "object_fit": null,
            "grid_auto_columns": null,
            "margin": null,
            "display": null,
            "left": null
          }
        },
        "d92d38f6760b4225a961c9a655debbe2": {
          "model_module": "@jupyter-widgets/controls",
          "model_name": "FloatProgressModel",
          "state": {
            "_view_name": "ProgressView",
            "style": "IPY_MODEL_5963ad0d18fd481d85e21f182d00976a",
            "_dom_classes": [],
            "description": "100%",
            "_model_name": "FloatProgressModel",
            "bar_style": "success",
            "max": 1746,
            "_view_module": "@jupyter-widgets/controls",
            "_model_module_version": "1.5.0",
            "value": 1746,
            "_view_count": null,
            "_view_module_version": "1.5.0",
            "orientation": "horizontal",
            "min": 0,
            "description_tooltip": null,
            "_model_module": "@jupyter-widgets/controls",
            "layout": "IPY_MODEL_4079a5749f9347ad91caf885cc27bcaf"
          }
        },
        "8aac447fd18d44949045260b5f7353ed": {
          "model_module": "@jupyter-widgets/controls",
          "model_name": "HTMLModel",
          "state": {
            "_view_name": "HTMLView",
            "style": "IPY_MODEL_e2cff515a77640c4bf0943b773373b30",
            "_dom_classes": [],
            "description": "",
            "_model_name": "HTMLModel",
            "placeholder": "​",
            "_view_module": "@jupyter-widgets/controls",
            "_model_module_version": "1.5.0",
            "value": " 1746/1746 [00:20&lt;00:00, 83.89it/s]",
            "_view_count": null,
            "_view_module_version": "1.5.0",
            "description_tooltip": null,
            "_model_module": "@jupyter-widgets/controls",
            "layout": "IPY_MODEL_5b23134de03e44a281d267740f9559e5"
          }
        },
        "5963ad0d18fd481d85e21f182d00976a": {
          "model_module": "@jupyter-widgets/controls",
          "model_name": "ProgressStyleModel",
          "state": {
            "_view_name": "StyleView",
            "_model_name": "ProgressStyleModel",
            "description_width": "initial",
            "_view_module": "@jupyter-widgets/base",
            "_model_module_version": "1.5.0",
            "_view_count": null,
            "_view_module_version": "1.2.0",
            "bar_color": null,
            "_model_module": "@jupyter-widgets/controls"
          }
        },
        "4079a5749f9347ad91caf885cc27bcaf": {
          "model_module": "@jupyter-widgets/base",
          "model_name": "LayoutModel",
          "state": {
            "_view_name": "LayoutView",
            "grid_template_rows": null,
            "right": null,
            "justify_content": null,
            "_view_module": "@jupyter-widgets/base",
            "overflow": null,
            "_model_module_version": "1.2.0",
            "_view_count": null,
            "flex_flow": null,
            "width": null,
            "min_width": null,
            "border": null,
            "align_items": null,
            "bottom": null,
            "_model_module": "@jupyter-widgets/base",
            "top": null,
            "grid_column": null,
            "overflow_y": null,
            "overflow_x": null,
            "grid_auto_flow": null,
            "grid_area": null,
            "grid_template_columns": null,
            "flex": null,
            "_model_name": "LayoutModel",
            "justify_items": null,
            "grid_row": null,
            "max_height": null,
            "align_content": null,
            "visibility": null,
            "align_self": null,
            "height": null,
            "min_height": null,
            "padding": null,
            "grid_auto_rows": null,
            "grid_gap": null,
            "max_width": null,
            "order": null,
            "_view_module_version": "1.2.0",
            "grid_template_areas": null,
            "object_position": null,
            "object_fit": null,
            "grid_auto_columns": null,
            "margin": null,
            "display": null,
            "left": null
          }
        },
        "e2cff515a77640c4bf0943b773373b30": {
          "model_module": "@jupyter-widgets/controls",
          "model_name": "DescriptionStyleModel",
          "state": {
            "_view_name": "StyleView",
            "_model_name": "DescriptionStyleModel",
            "description_width": "",
            "_view_module": "@jupyter-widgets/base",
            "_model_module_version": "1.5.0",
            "_view_count": null,
            "_view_module_version": "1.2.0",
            "_model_module": "@jupyter-widgets/controls"
          }
        },
        "5b23134de03e44a281d267740f9559e5": {
          "model_module": "@jupyter-widgets/base",
          "model_name": "LayoutModel",
          "state": {
            "_view_name": "LayoutView",
            "grid_template_rows": null,
            "right": null,
            "justify_content": null,
            "_view_module": "@jupyter-widgets/base",
            "overflow": null,
            "_model_module_version": "1.2.0",
            "_view_count": null,
            "flex_flow": null,
            "width": null,
            "min_width": null,
            "border": null,
            "align_items": null,
            "bottom": null,
            "_model_module": "@jupyter-widgets/base",
            "top": null,
            "grid_column": null,
            "overflow_y": null,
            "overflow_x": null,
            "grid_auto_flow": null,
            "grid_area": null,
            "grid_template_columns": null,
            "flex": null,
            "_model_name": "LayoutModel",
            "justify_items": null,
            "grid_row": null,
            "max_height": null,
            "align_content": null,
            "visibility": null,
            "align_self": null,
            "height": null,
            "min_height": null,
            "padding": null,
            "grid_auto_rows": null,
            "grid_gap": null,
            "max_width": null,
            "order": null,
            "_view_module_version": "1.2.0",
            "grid_template_areas": null,
            "object_position": null,
            "object_fit": null,
            "grid_auto_columns": null,
            "margin": null,
            "display": null,
            "left": null
          }
        },
        "c769d8c808f54e52baea844527bcf28c": {
          "model_module": "@jupyter-widgets/controls",
          "model_name": "HBoxModel",
          "state": {
            "_view_name": "HBoxView",
            "_dom_classes": [],
            "_model_name": "HBoxModel",
            "_view_module": "@jupyter-widgets/controls",
            "_model_module_version": "1.5.0",
            "_view_count": null,
            "_view_module_version": "1.5.0",
            "box_style": "",
            "layout": "IPY_MODEL_30bef232055f4c7ca0920c9d01afc2e5",
            "_model_module": "@jupyter-widgets/controls",
            "children": [
              "IPY_MODEL_2ccfb1d98c4743559279645ad75f64c1",
              "IPY_MODEL_a2be0d0b1d364cce8ff70122795ba7de"
            ]
          }
        },
        "30bef232055f4c7ca0920c9d01afc2e5": {
          "model_module": "@jupyter-widgets/base",
          "model_name": "LayoutModel",
          "state": {
            "_view_name": "LayoutView",
            "grid_template_rows": null,
            "right": null,
            "justify_content": null,
            "_view_module": "@jupyter-widgets/base",
            "overflow": null,
            "_model_module_version": "1.2.0",
            "_view_count": null,
            "flex_flow": null,
            "width": null,
            "min_width": null,
            "border": null,
            "align_items": null,
            "bottom": null,
            "_model_module": "@jupyter-widgets/base",
            "top": null,
            "grid_column": null,
            "overflow_y": null,
            "overflow_x": null,
            "grid_auto_flow": null,
            "grid_area": null,
            "grid_template_columns": null,
            "flex": null,
            "_model_name": "LayoutModel",
            "justify_items": null,
            "grid_row": null,
            "max_height": null,
            "align_content": null,
            "visibility": null,
            "align_self": null,
            "height": null,
            "min_height": null,
            "padding": null,
            "grid_auto_rows": null,
            "grid_gap": null,
            "max_width": null,
            "order": null,
            "_view_module_version": "1.2.0",
            "grid_template_areas": null,
            "object_position": null,
            "object_fit": null,
            "grid_auto_columns": null,
            "margin": null,
            "display": null,
            "left": null
          }
        },
        "2ccfb1d98c4743559279645ad75f64c1": {
          "model_module": "@jupyter-widgets/controls",
          "model_name": "FloatProgressModel",
          "state": {
            "_view_name": "ProgressView",
            "style": "IPY_MODEL_98caf955c09d4508a14c078d1994b4d2",
            "_dom_classes": [],
            "description": "100%",
            "_model_name": "FloatProgressModel",
            "bar_style": "success",
            "max": 1055,
            "_view_module": "@jupyter-widgets/controls",
            "_model_module_version": "1.5.0",
            "value": 1055,
            "_view_count": null,
            "_view_module_version": "1.5.0",
            "orientation": "horizontal",
            "min": 0,
            "description_tooltip": null,
            "_model_module": "@jupyter-widgets/controls",
            "layout": "IPY_MODEL_210ece0859b949e0a589ce9597aa2262"
          }
        },
        "a2be0d0b1d364cce8ff70122795ba7de": {
          "model_module": "@jupyter-widgets/controls",
          "model_name": "HTMLModel",
          "state": {
            "_view_name": "HTMLView",
            "style": "IPY_MODEL_d78a4a4516e241118a348b6be7c38b74",
            "_dom_classes": [],
            "description": "",
            "_model_name": "HTMLModel",
            "placeholder": "​",
            "_view_module": "@jupyter-widgets/controls",
            "_model_module_version": "1.5.0",
            "value": " 1055/1055 [00:11&lt;00:00, 89.31it/s]",
            "_view_count": null,
            "_view_module_version": "1.5.0",
            "description_tooltip": null,
            "_model_module": "@jupyter-widgets/controls",
            "layout": "IPY_MODEL_3e48c47c2e5c4ea78a34b21f29a7970f"
          }
        },
        "98caf955c09d4508a14c078d1994b4d2": {
          "model_module": "@jupyter-widgets/controls",
          "model_name": "ProgressStyleModel",
          "state": {
            "_view_name": "StyleView",
            "_model_name": "ProgressStyleModel",
            "description_width": "initial",
            "_view_module": "@jupyter-widgets/base",
            "_model_module_version": "1.5.0",
            "_view_count": null,
            "_view_module_version": "1.2.0",
            "bar_color": null,
            "_model_module": "@jupyter-widgets/controls"
          }
        },
        "210ece0859b949e0a589ce9597aa2262": {
          "model_module": "@jupyter-widgets/base",
          "model_name": "LayoutModel",
          "state": {
            "_view_name": "LayoutView",
            "grid_template_rows": null,
            "right": null,
            "justify_content": null,
            "_view_module": "@jupyter-widgets/base",
            "overflow": null,
            "_model_module_version": "1.2.0",
            "_view_count": null,
            "flex_flow": null,
            "width": null,
            "min_width": null,
            "border": null,
            "align_items": null,
            "bottom": null,
            "_model_module": "@jupyter-widgets/base",
            "top": null,
            "grid_column": null,
            "overflow_y": null,
            "overflow_x": null,
            "grid_auto_flow": null,
            "grid_area": null,
            "grid_template_columns": null,
            "flex": null,
            "_model_name": "LayoutModel",
            "justify_items": null,
            "grid_row": null,
            "max_height": null,
            "align_content": null,
            "visibility": null,
            "align_self": null,
            "height": null,
            "min_height": null,
            "padding": null,
            "grid_auto_rows": null,
            "grid_gap": null,
            "max_width": null,
            "order": null,
            "_view_module_version": "1.2.0",
            "grid_template_areas": null,
            "object_position": null,
            "object_fit": null,
            "grid_auto_columns": null,
            "margin": null,
            "display": null,
            "left": null
          }
        },
        "d78a4a4516e241118a348b6be7c38b74": {
          "model_module": "@jupyter-widgets/controls",
          "model_name": "DescriptionStyleModel",
          "state": {
            "_view_name": "StyleView",
            "_model_name": "DescriptionStyleModel",
            "description_width": "",
            "_view_module": "@jupyter-widgets/base",
            "_model_module_version": "1.5.0",
            "_view_count": null,
            "_view_module_version": "1.2.0",
            "_model_module": "@jupyter-widgets/controls"
          }
        },
        "3e48c47c2e5c4ea78a34b21f29a7970f": {
          "model_module": "@jupyter-widgets/base",
          "model_name": "LayoutModel",
          "state": {
            "_view_name": "LayoutView",
            "grid_template_rows": null,
            "right": null,
            "justify_content": null,
            "_view_module": "@jupyter-widgets/base",
            "overflow": null,
            "_model_module_version": "1.2.0",
            "_view_count": null,
            "flex_flow": null,
            "width": null,
            "min_width": null,
            "border": null,
            "align_items": null,
            "bottom": null,
            "_model_module": "@jupyter-widgets/base",
            "top": null,
            "grid_column": null,
            "overflow_y": null,
            "overflow_x": null,
            "grid_auto_flow": null,
            "grid_area": null,
            "grid_template_columns": null,
            "flex": null,
            "_model_name": "LayoutModel",
            "justify_items": null,
            "grid_row": null,
            "max_height": null,
            "align_content": null,
            "visibility": null,
            "align_self": null,
            "height": null,
            "min_height": null,
            "padding": null,
            "grid_auto_rows": null,
            "grid_gap": null,
            "max_width": null,
            "order": null,
            "_view_module_version": "1.2.0",
            "grid_template_areas": null,
            "object_position": null,
            "object_fit": null,
            "grid_auto_columns": null,
            "margin": null,
            "display": null,
            "left": null
          }
        },
        "15325d86643e497da05541d70f480e27": {
          "model_module": "@jupyter-widgets/controls",
          "model_name": "HBoxModel",
          "state": {
            "_view_name": "HBoxView",
            "_dom_classes": [],
            "_model_name": "HBoxModel",
            "_view_module": "@jupyter-widgets/controls",
            "_model_module_version": "1.5.0",
            "_view_count": null,
            "_view_module_version": "1.5.0",
            "box_style": "",
            "layout": "IPY_MODEL_b55c002194b3480ba192b9d4c185d8c7",
            "_model_module": "@jupyter-widgets/controls",
            "children": [
              "IPY_MODEL_57cb306c8d3d486db923883063feff43",
              "IPY_MODEL_221ff6d47c214f01857f66aa80f9eaed"
            ]
          }
        },
        "b55c002194b3480ba192b9d4c185d8c7": {
          "model_module": "@jupyter-widgets/base",
          "model_name": "LayoutModel",
          "state": {
            "_view_name": "LayoutView",
            "grid_template_rows": null,
            "right": null,
            "justify_content": null,
            "_view_module": "@jupyter-widgets/base",
            "overflow": null,
            "_model_module_version": "1.2.0",
            "_view_count": null,
            "flex_flow": null,
            "width": null,
            "min_width": null,
            "border": null,
            "align_items": null,
            "bottom": null,
            "_model_module": "@jupyter-widgets/base",
            "top": null,
            "grid_column": null,
            "overflow_y": null,
            "overflow_x": null,
            "grid_auto_flow": null,
            "grid_area": null,
            "grid_template_columns": null,
            "flex": null,
            "_model_name": "LayoutModel",
            "justify_items": null,
            "grid_row": null,
            "max_height": null,
            "align_content": null,
            "visibility": null,
            "align_self": null,
            "height": null,
            "min_height": null,
            "padding": null,
            "grid_auto_rows": null,
            "grid_gap": null,
            "max_width": null,
            "order": null,
            "_view_module_version": "1.2.0",
            "grid_template_areas": null,
            "object_position": null,
            "object_fit": null,
            "grid_auto_columns": null,
            "margin": null,
            "display": null,
            "left": null
          }
        },
        "57cb306c8d3d486db923883063feff43": {
          "model_module": "@jupyter-widgets/controls",
          "model_name": "FloatProgressModel",
          "state": {
            "_view_name": "ProgressView",
            "style": "IPY_MODEL_115fabbc82f64fb8b8a22781d4ead2a8",
            "_dom_classes": [],
            "description": "100%",
            "_model_name": "FloatProgressModel",
            "bar_style": "success",
            "max": 1746,
            "_view_module": "@jupyter-widgets/controls",
            "_model_module_version": "1.5.0",
            "value": 1746,
            "_view_count": null,
            "_view_module_version": "1.5.0",
            "orientation": "horizontal",
            "min": 0,
            "description_tooltip": null,
            "_model_module": "@jupyter-widgets/controls",
            "layout": "IPY_MODEL_6228ddbe83cc4f9c90efa5e747ad9cae"
          }
        },
        "221ff6d47c214f01857f66aa80f9eaed": {
          "model_module": "@jupyter-widgets/controls",
          "model_name": "HTMLModel",
          "state": {
            "_view_name": "HTMLView",
            "style": "IPY_MODEL_7aa39c2992c746718004608ccab310d1",
            "_dom_classes": [],
            "description": "",
            "_model_name": "HTMLModel",
            "placeholder": "​",
            "_view_module": "@jupyter-widgets/controls",
            "_model_module_version": "1.5.0",
            "value": " 1746/1746 [00:11&lt;00:00, 152.52it/s]",
            "_view_count": null,
            "_view_module_version": "1.5.0",
            "description_tooltip": null,
            "_model_module": "@jupyter-widgets/controls",
            "layout": "IPY_MODEL_5131eca0d49d47769875aed83b95ae08"
          }
        },
        "115fabbc82f64fb8b8a22781d4ead2a8": {
          "model_module": "@jupyter-widgets/controls",
          "model_name": "ProgressStyleModel",
          "state": {
            "_view_name": "StyleView",
            "_model_name": "ProgressStyleModel",
            "description_width": "initial",
            "_view_module": "@jupyter-widgets/base",
            "_model_module_version": "1.5.0",
            "_view_count": null,
            "_view_module_version": "1.2.0",
            "bar_color": null,
            "_model_module": "@jupyter-widgets/controls"
          }
        },
        "6228ddbe83cc4f9c90efa5e747ad9cae": {
          "model_module": "@jupyter-widgets/base",
          "model_name": "LayoutModel",
          "state": {
            "_view_name": "LayoutView",
            "grid_template_rows": null,
            "right": null,
            "justify_content": null,
            "_view_module": "@jupyter-widgets/base",
            "overflow": null,
            "_model_module_version": "1.2.0",
            "_view_count": null,
            "flex_flow": null,
            "width": null,
            "min_width": null,
            "border": null,
            "align_items": null,
            "bottom": null,
            "_model_module": "@jupyter-widgets/base",
            "top": null,
            "grid_column": null,
            "overflow_y": null,
            "overflow_x": null,
            "grid_auto_flow": null,
            "grid_area": null,
            "grid_template_columns": null,
            "flex": null,
            "_model_name": "LayoutModel",
            "justify_items": null,
            "grid_row": null,
            "max_height": null,
            "align_content": null,
            "visibility": null,
            "align_self": null,
            "height": null,
            "min_height": null,
            "padding": null,
            "grid_auto_rows": null,
            "grid_gap": null,
            "max_width": null,
            "order": null,
            "_view_module_version": "1.2.0",
            "grid_template_areas": null,
            "object_position": null,
            "object_fit": null,
            "grid_auto_columns": null,
            "margin": null,
            "display": null,
            "left": null
          }
        },
        "7aa39c2992c746718004608ccab310d1": {
          "model_module": "@jupyter-widgets/controls",
          "model_name": "DescriptionStyleModel",
          "state": {
            "_view_name": "StyleView",
            "_model_name": "DescriptionStyleModel",
            "description_width": "",
            "_view_module": "@jupyter-widgets/base",
            "_model_module_version": "1.5.0",
            "_view_count": null,
            "_view_module_version": "1.2.0",
            "_model_module": "@jupyter-widgets/controls"
          }
        },
        "5131eca0d49d47769875aed83b95ae08": {
          "model_module": "@jupyter-widgets/base",
          "model_name": "LayoutModel",
          "state": {
            "_view_name": "LayoutView",
            "grid_template_rows": null,
            "right": null,
            "justify_content": null,
            "_view_module": "@jupyter-widgets/base",
            "overflow": null,
            "_model_module_version": "1.2.0",
            "_view_count": null,
            "flex_flow": null,
            "width": null,
            "min_width": null,
            "border": null,
            "align_items": null,
            "bottom": null,
            "_model_module": "@jupyter-widgets/base",
            "top": null,
            "grid_column": null,
            "overflow_y": null,
            "overflow_x": null,
            "grid_auto_flow": null,
            "grid_area": null,
            "grid_template_columns": null,
            "flex": null,
            "_model_name": "LayoutModel",
            "justify_items": null,
            "grid_row": null,
            "max_height": null,
            "align_content": null,
            "visibility": null,
            "align_self": null,
            "height": null,
            "min_height": null,
            "padding": null,
            "grid_auto_rows": null,
            "grid_gap": null,
            "max_width": null,
            "order": null,
            "_view_module_version": "1.2.0",
            "grid_template_areas": null,
            "object_position": null,
            "object_fit": null,
            "grid_auto_columns": null,
            "margin": null,
            "display": null,
            "left": null
          }
        },
        "557b0ed163d44e9d994a2b6c89e8c353": {
          "model_module": "@jupyter-widgets/controls",
          "model_name": "HBoxModel",
          "state": {
            "_view_name": "HBoxView",
            "_dom_classes": [],
            "_model_name": "HBoxModel",
            "_view_module": "@jupyter-widgets/controls",
            "_model_module_version": "1.5.0",
            "_view_count": null,
            "_view_module_version": "1.5.0",
            "box_style": "",
            "layout": "IPY_MODEL_e37343a4417844ac862e8c8de1ebbea4",
            "_model_module": "@jupyter-widgets/controls",
            "children": [
              "IPY_MODEL_af59850b3cc6415982ee94eea01b080e",
              "IPY_MODEL_273a7f41e0314168ac2f8ad2bd934e03"
            ]
          }
        },
        "e37343a4417844ac862e8c8de1ebbea4": {
          "model_module": "@jupyter-widgets/base",
          "model_name": "LayoutModel",
          "state": {
            "_view_name": "LayoutView",
            "grid_template_rows": null,
            "right": null,
            "justify_content": null,
            "_view_module": "@jupyter-widgets/base",
            "overflow": null,
            "_model_module_version": "1.2.0",
            "_view_count": null,
            "flex_flow": null,
            "width": null,
            "min_width": null,
            "border": null,
            "align_items": null,
            "bottom": null,
            "_model_module": "@jupyter-widgets/base",
            "top": null,
            "grid_column": null,
            "overflow_y": null,
            "overflow_x": null,
            "grid_auto_flow": null,
            "grid_area": null,
            "grid_template_columns": null,
            "flex": null,
            "_model_name": "LayoutModel",
            "justify_items": null,
            "grid_row": null,
            "max_height": null,
            "align_content": null,
            "visibility": null,
            "align_self": null,
            "height": null,
            "min_height": null,
            "padding": null,
            "grid_auto_rows": null,
            "grid_gap": null,
            "max_width": null,
            "order": null,
            "_view_module_version": "1.2.0",
            "grid_template_areas": null,
            "object_position": null,
            "object_fit": null,
            "grid_auto_columns": null,
            "margin": null,
            "display": null,
            "left": null
          }
        },
        "af59850b3cc6415982ee94eea01b080e": {
          "model_module": "@jupyter-widgets/controls",
          "model_name": "FloatProgressModel",
          "state": {
            "_view_name": "ProgressView",
            "style": "IPY_MODEL_8b11e9279dee48c9b6104e30f63aac7a",
            "_dom_classes": [],
            "description": "100%",
            "_model_name": "FloatProgressModel",
            "bar_style": "success",
            "max": 1055,
            "_view_module": "@jupyter-widgets/controls",
            "_model_module_version": "1.5.0",
            "value": 1055,
            "_view_count": null,
            "_view_module_version": "1.5.0",
            "orientation": "horizontal",
            "min": 0,
            "description_tooltip": null,
            "_model_module": "@jupyter-widgets/controls",
            "layout": "IPY_MODEL_1e4b1ffa08394ac1baef618a45ebe252"
          }
        },
        "273a7f41e0314168ac2f8ad2bd934e03": {
          "model_module": "@jupyter-widgets/controls",
          "model_name": "HTMLModel",
          "state": {
            "_view_name": "HTMLView",
            "style": "IPY_MODEL_49519a42a17c43e4844295f7b237e872",
            "_dom_classes": [],
            "description": "",
            "_model_name": "HTMLModel",
            "placeholder": "​",
            "_view_module": "@jupyter-widgets/controls",
            "_model_module_version": "1.5.0",
            "value": " 1055/1055 [00:07&lt;00:00, 134.51it/s]",
            "_view_count": null,
            "_view_module_version": "1.5.0",
            "description_tooltip": null,
            "_model_module": "@jupyter-widgets/controls",
            "layout": "IPY_MODEL_223f03610f2942a8a112052390086998"
          }
        },
        "8b11e9279dee48c9b6104e30f63aac7a": {
          "model_module": "@jupyter-widgets/controls",
          "model_name": "ProgressStyleModel",
          "state": {
            "_view_name": "StyleView",
            "_model_name": "ProgressStyleModel",
            "description_width": "initial",
            "_view_module": "@jupyter-widgets/base",
            "_model_module_version": "1.5.0",
            "_view_count": null,
            "_view_module_version": "1.2.0",
            "bar_color": null,
            "_model_module": "@jupyter-widgets/controls"
          }
        },
        "1e4b1ffa08394ac1baef618a45ebe252": {
          "model_module": "@jupyter-widgets/base",
          "model_name": "LayoutModel",
          "state": {
            "_view_name": "LayoutView",
            "grid_template_rows": null,
            "right": null,
            "justify_content": null,
            "_view_module": "@jupyter-widgets/base",
            "overflow": null,
            "_model_module_version": "1.2.0",
            "_view_count": null,
            "flex_flow": null,
            "width": null,
            "min_width": null,
            "border": null,
            "align_items": null,
            "bottom": null,
            "_model_module": "@jupyter-widgets/base",
            "top": null,
            "grid_column": null,
            "overflow_y": null,
            "overflow_x": null,
            "grid_auto_flow": null,
            "grid_area": null,
            "grid_template_columns": null,
            "flex": null,
            "_model_name": "LayoutModel",
            "justify_items": null,
            "grid_row": null,
            "max_height": null,
            "align_content": null,
            "visibility": null,
            "align_self": null,
            "height": null,
            "min_height": null,
            "padding": null,
            "grid_auto_rows": null,
            "grid_gap": null,
            "max_width": null,
            "order": null,
            "_view_module_version": "1.2.0",
            "grid_template_areas": null,
            "object_position": null,
            "object_fit": null,
            "grid_auto_columns": null,
            "margin": null,
            "display": null,
            "left": null
          }
        },
        "49519a42a17c43e4844295f7b237e872": {
          "model_module": "@jupyter-widgets/controls",
          "model_name": "DescriptionStyleModel",
          "state": {
            "_view_name": "StyleView",
            "_model_name": "DescriptionStyleModel",
            "description_width": "",
            "_view_module": "@jupyter-widgets/base",
            "_model_module_version": "1.5.0",
            "_view_count": null,
            "_view_module_version": "1.2.0",
            "_model_module": "@jupyter-widgets/controls"
          }
        },
        "223f03610f2942a8a112052390086998": {
          "model_module": "@jupyter-widgets/base",
          "model_name": "LayoutModel",
          "state": {
            "_view_name": "LayoutView",
            "grid_template_rows": null,
            "right": null,
            "justify_content": null,
            "_view_module": "@jupyter-widgets/base",
            "overflow": null,
            "_model_module_version": "1.2.0",
            "_view_count": null,
            "flex_flow": null,
            "width": null,
            "min_width": null,
            "border": null,
            "align_items": null,
            "bottom": null,
            "_model_module": "@jupyter-widgets/base",
            "top": null,
            "grid_column": null,
            "overflow_y": null,
            "overflow_x": null,
            "grid_auto_flow": null,
            "grid_area": null,
            "grid_template_columns": null,
            "flex": null,
            "_model_name": "LayoutModel",
            "justify_items": null,
            "grid_row": null,
            "max_height": null,
            "align_content": null,
            "visibility": null,
            "align_self": null,
            "height": null,
            "min_height": null,
            "padding": null,
            "grid_auto_rows": null,
            "grid_gap": null,
            "max_width": null,
            "order": null,
            "_view_module_version": "1.2.0",
            "grid_template_areas": null,
            "object_position": null,
            "object_fit": null,
            "grid_auto_columns": null,
            "margin": null,
            "display": null,
            "left": null
          }
        },
        "c6cdaf3a486f4f13984fd755ef0624be": {
          "model_module": "@jupyter-widgets/controls",
          "model_name": "HBoxModel",
          "state": {
            "_view_name": "HBoxView",
            "_dom_classes": [],
            "_model_name": "HBoxModel",
            "_view_module": "@jupyter-widgets/controls",
            "_model_module_version": "1.5.0",
            "_view_count": null,
            "_view_module_version": "1.5.0",
            "box_style": "",
            "layout": "IPY_MODEL_45df870729a44241a6c506bd255ceee1",
            "_model_module": "@jupyter-widgets/controls",
            "children": [
              "IPY_MODEL_fda96eabc1914ccaae4722bc875059cd",
              "IPY_MODEL_7b3add2e506d45a7b6301d770f5a62dd"
            ]
          }
        },
        "45df870729a44241a6c506bd255ceee1": {
          "model_module": "@jupyter-widgets/base",
          "model_name": "LayoutModel",
          "state": {
            "_view_name": "LayoutView",
            "grid_template_rows": null,
            "right": null,
            "justify_content": null,
            "_view_module": "@jupyter-widgets/base",
            "overflow": null,
            "_model_module_version": "1.2.0",
            "_view_count": null,
            "flex_flow": null,
            "width": null,
            "min_width": null,
            "border": null,
            "align_items": null,
            "bottom": null,
            "_model_module": "@jupyter-widgets/base",
            "top": null,
            "grid_column": null,
            "overflow_y": null,
            "overflow_x": null,
            "grid_auto_flow": null,
            "grid_area": null,
            "grid_template_columns": null,
            "flex": null,
            "_model_name": "LayoutModel",
            "justify_items": null,
            "grid_row": null,
            "max_height": null,
            "align_content": null,
            "visibility": null,
            "align_self": null,
            "height": null,
            "min_height": null,
            "padding": null,
            "grid_auto_rows": null,
            "grid_gap": null,
            "max_width": null,
            "order": null,
            "_view_module_version": "1.2.0",
            "grid_template_areas": null,
            "object_position": null,
            "object_fit": null,
            "grid_auto_columns": null,
            "margin": null,
            "display": null,
            "left": null
          }
        },
        "fda96eabc1914ccaae4722bc875059cd": {
          "model_module": "@jupyter-widgets/controls",
          "model_name": "FloatProgressModel",
          "state": {
            "_view_name": "ProgressView",
            "style": "IPY_MODEL_fc42883442f84f3ab8834303f243131a",
            "_dom_classes": [],
            "description": "100%",
            "_model_name": "FloatProgressModel",
            "bar_style": "success",
            "max": 1746,
            "_view_module": "@jupyter-widgets/controls",
            "_model_module_version": "1.5.0",
            "value": 1746,
            "_view_count": null,
            "_view_module_version": "1.5.0",
            "orientation": "horizontal",
            "min": 0,
            "description_tooltip": null,
            "_model_module": "@jupyter-widgets/controls",
            "layout": "IPY_MODEL_fdfd23e171f740268ffb9ef8db30e470"
          }
        },
        "7b3add2e506d45a7b6301d770f5a62dd": {
          "model_module": "@jupyter-widgets/controls",
          "model_name": "HTMLModel",
          "state": {
            "_view_name": "HTMLView",
            "style": "IPY_MODEL_14fb58231ab04a809d94a45849e85b81",
            "_dom_classes": [],
            "description": "",
            "_model_name": "HTMLModel",
            "placeholder": "​",
            "_view_module": "@jupyter-widgets/controls",
            "_model_module_version": "1.5.0",
            "value": " 1746/1746 [00:05&lt;00:00, 319.30it/s]",
            "_view_count": null,
            "_view_module_version": "1.5.0",
            "description_tooltip": null,
            "_model_module": "@jupyter-widgets/controls",
            "layout": "IPY_MODEL_d655cc3a25d64fa2b2ccc34c95d6e39a"
          }
        },
        "fc42883442f84f3ab8834303f243131a": {
          "model_module": "@jupyter-widgets/controls",
          "model_name": "ProgressStyleModel",
          "state": {
            "_view_name": "StyleView",
            "_model_name": "ProgressStyleModel",
            "description_width": "initial",
            "_view_module": "@jupyter-widgets/base",
            "_model_module_version": "1.5.0",
            "_view_count": null,
            "_view_module_version": "1.2.0",
            "bar_color": null,
            "_model_module": "@jupyter-widgets/controls"
          }
        },
        "fdfd23e171f740268ffb9ef8db30e470": {
          "model_module": "@jupyter-widgets/base",
          "model_name": "LayoutModel",
          "state": {
            "_view_name": "LayoutView",
            "grid_template_rows": null,
            "right": null,
            "justify_content": null,
            "_view_module": "@jupyter-widgets/base",
            "overflow": null,
            "_model_module_version": "1.2.0",
            "_view_count": null,
            "flex_flow": null,
            "width": null,
            "min_width": null,
            "border": null,
            "align_items": null,
            "bottom": null,
            "_model_module": "@jupyter-widgets/base",
            "top": null,
            "grid_column": null,
            "overflow_y": null,
            "overflow_x": null,
            "grid_auto_flow": null,
            "grid_area": null,
            "grid_template_columns": null,
            "flex": null,
            "_model_name": "LayoutModel",
            "justify_items": null,
            "grid_row": null,
            "max_height": null,
            "align_content": null,
            "visibility": null,
            "align_self": null,
            "height": null,
            "min_height": null,
            "padding": null,
            "grid_auto_rows": null,
            "grid_gap": null,
            "max_width": null,
            "order": null,
            "_view_module_version": "1.2.0",
            "grid_template_areas": null,
            "object_position": null,
            "object_fit": null,
            "grid_auto_columns": null,
            "margin": null,
            "display": null,
            "left": null
          }
        },
        "14fb58231ab04a809d94a45849e85b81": {
          "model_module": "@jupyter-widgets/controls",
          "model_name": "DescriptionStyleModel",
          "state": {
            "_view_name": "StyleView",
            "_model_name": "DescriptionStyleModel",
            "description_width": "",
            "_view_module": "@jupyter-widgets/base",
            "_model_module_version": "1.5.0",
            "_view_count": null,
            "_view_module_version": "1.2.0",
            "_model_module": "@jupyter-widgets/controls"
          }
        },
        "d655cc3a25d64fa2b2ccc34c95d6e39a": {
          "model_module": "@jupyter-widgets/base",
          "model_name": "LayoutModel",
          "state": {
            "_view_name": "LayoutView",
            "grid_template_rows": null,
            "right": null,
            "justify_content": null,
            "_view_module": "@jupyter-widgets/base",
            "overflow": null,
            "_model_module_version": "1.2.0",
            "_view_count": null,
            "flex_flow": null,
            "width": null,
            "min_width": null,
            "border": null,
            "align_items": null,
            "bottom": null,
            "_model_module": "@jupyter-widgets/base",
            "top": null,
            "grid_column": null,
            "overflow_y": null,
            "overflow_x": null,
            "grid_auto_flow": null,
            "grid_area": null,
            "grid_template_columns": null,
            "flex": null,
            "_model_name": "LayoutModel",
            "justify_items": null,
            "grid_row": null,
            "max_height": null,
            "align_content": null,
            "visibility": null,
            "align_self": null,
            "height": null,
            "min_height": null,
            "padding": null,
            "grid_auto_rows": null,
            "grid_gap": null,
            "max_width": null,
            "order": null,
            "_view_module_version": "1.2.0",
            "grid_template_areas": null,
            "object_position": null,
            "object_fit": null,
            "grid_auto_columns": null,
            "margin": null,
            "display": null,
            "left": null
          }
        },
        "0bdcf257edbf48e8a2172ee039171680": {
          "model_module": "@jupyter-widgets/controls",
          "model_name": "HBoxModel",
          "state": {
            "_view_name": "HBoxView",
            "_dom_classes": [],
            "_model_name": "HBoxModel",
            "_view_module": "@jupyter-widgets/controls",
            "_model_module_version": "1.5.0",
            "_view_count": null,
            "_view_module_version": "1.5.0",
            "box_style": "",
            "layout": "IPY_MODEL_51b565cea5924917a2878466dc989915",
            "_model_module": "@jupyter-widgets/controls",
            "children": [
              "IPY_MODEL_5cc2870c6fb04a648670c6766855cb1a",
              "IPY_MODEL_16696ccbe2ee4ba1977d4b928b84494f"
            ]
          }
        },
        "51b565cea5924917a2878466dc989915": {
          "model_module": "@jupyter-widgets/base",
          "model_name": "LayoutModel",
          "state": {
            "_view_name": "LayoutView",
            "grid_template_rows": null,
            "right": null,
            "justify_content": null,
            "_view_module": "@jupyter-widgets/base",
            "overflow": null,
            "_model_module_version": "1.2.0",
            "_view_count": null,
            "flex_flow": null,
            "width": null,
            "min_width": null,
            "border": null,
            "align_items": null,
            "bottom": null,
            "_model_module": "@jupyter-widgets/base",
            "top": null,
            "grid_column": null,
            "overflow_y": null,
            "overflow_x": null,
            "grid_auto_flow": null,
            "grid_area": null,
            "grid_template_columns": null,
            "flex": null,
            "_model_name": "LayoutModel",
            "justify_items": null,
            "grid_row": null,
            "max_height": null,
            "align_content": null,
            "visibility": null,
            "align_self": null,
            "height": null,
            "min_height": null,
            "padding": null,
            "grid_auto_rows": null,
            "grid_gap": null,
            "max_width": null,
            "order": null,
            "_view_module_version": "1.2.0",
            "grid_template_areas": null,
            "object_position": null,
            "object_fit": null,
            "grid_auto_columns": null,
            "margin": null,
            "display": null,
            "left": null
          }
        },
        "5cc2870c6fb04a648670c6766855cb1a": {
          "model_module": "@jupyter-widgets/controls",
          "model_name": "FloatProgressModel",
          "state": {
            "_view_name": "ProgressView",
            "style": "IPY_MODEL_263923c2c17b4187b8fddbc403882c40",
            "_dom_classes": [],
            "description": "100%",
            "_model_name": "FloatProgressModel",
            "bar_style": "success",
            "max": 1055,
            "_view_module": "@jupyter-widgets/controls",
            "_model_module_version": "1.5.0",
            "value": 1055,
            "_view_count": null,
            "_view_module_version": "1.5.0",
            "orientation": "horizontal",
            "min": 0,
            "description_tooltip": null,
            "_model_module": "@jupyter-widgets/controls",
            "layout": "IPY_MODEL_9c1518cc820b4adb927f1d33bfd63d9a"
          }
        },
        "16696ccbe2ee4ba1977d4b928b84494f": {
          "model_module": "@jupyter-widgets/controls",
          "model_name": "HTMLModel",
          "state": {
            "_view_name": "HTMLView",
            "style": "IPY_MODEL_d08c86e3da674491a52ff62fca72aade",
            "_dom_classes": [],
            "description": "",
            "_model_name": "HTMLModel",
            "placeholder": "​",
            "_view_module": "@jupyter-widgets/controls",
            "_model_module_version": "1.5.0",
            "value": " 1055/1055 [00:19&lt;00:00, 52.90it/s]",
            "_view_count": null,
            "_view_module_version": "1.5.0",
            "description_tooltip": null,
            "_model_module": "@jupyter-widgets/controls",
            "layout": "IPY_MODEL_044aae4bf08d472298487f9bd91b54b4"
          }
        },
        "263923c2c17b4187b8fddbc403882c40": {
          "model_module": "@jupyter-widgets/controls",
          "model_name": "ProgressStyleModel",
          "state": {
            "_view_name": "StyleView",
            "_model_name": "ProgressStyleModel",
            "description_width": "initial",
            "_view_module": "@jupyter-widgets/base",
            "_model_module_version": "1.5.0",
            "_view_count": null,
            "_view_module_version": "1.2.0",
            "bar_color": null,
            "_model_module": "@jupyter-widgets/controls"
          }
        },
        "9c1518cc820b4adb927f1d33bfd63d9a": {
          "model_module": "@jupyter-widgets/base",
          "model_name": "LayoutModel",
          "state": {
            "_view_name": "LayoutView",
            "grid_template_rows": null,
            "right": null,
            "justify_content": null,
            "_view_module": "@jupyter-widgets/base",
            "overflow": null,
            "_model_module_version": "1.2.0",
            "_view_count": null,
            "flex_flow": null,
            "width": null,
            "min_width": null,
            "border": null,
            "align_items": null,
            "bottom": null,
            "_model_module": "@jupyter-widgets/base",
            "top": null,
            "grid_column": null,
            "overflow_y": null,
            "overflow_x": null,
            "grid_auto_flow": null,
            "grid_area": null,
            "grid_template_columns": null,
            "flex": null,
            "_model_name": "LayoutModel",
            "justify_items": null,
            "grid_row": null,
            "max_height": null,
            "align_content": null,
            "visibility": null,
            "align_self": null,
            "height": null,
            "min_height": null,
            "padding": null,
            "grid_auto_rows": null,
            "grid_gap": null,
            "max_width": null,
            "order": null,
            "_view_module_version": "1.2.0",
            "grid_template_areas": null,
            "object_position": null,
            "object_fit": null,
            "grid_auto_columns": null,
            "margin": null,
            "display": null,
            "left": null
          }
        },
        "d08c86e3da674491a52ff62fca72aade": {
          "model_module": "@jupyter-widgets/controls",
          "model_name": "DescriptionStyleModel",
          "state": {
            "_view_name": "StyleView",
            "_model_name": "DescriptionStyleModel",
            "description_width": "",
            "_view_module": "@jupyter-widgets/base",
            "_model_module_version": "1.5.0",
            "_view_count": null,
            "_view_module_version": "1.2.0",
            "_model_module": "@jupyter-widgets/controls"
          }
        },
        "044aae4bf08d472298487f9bd91b54b4": {
          "model_module": "@jupyter-widgets/base",
          "model_name": "LayoutModel",
          "state": {
            "_view_name": "LayoutView",
            "grid_template_rows": null,
            "right": null,
            "justify_content": null,
            "_view_module": "@jupyter-widgets/base",
            "overflow": null,
            "_model_module_version": "1.2.0",
            "_view_count": null,
            "flex_flow": null,
            "width": null,
            "min_width": null,
            "border": null,
            "align_items": null,
            "bottom": null,
            "_model_module": "@jupyter-widgets/base",
            "top": null,
            "grid_column": null,
            "overflow_y": null,
            "overflow_x": null,
            "grid_auto_flow": null,
            "grid_area": null,
            "grid_template_columns": null,
            "flex": null,
            "_model_name": "LayoutModel",
            "justify_items": null,
            "grid_row": null,
            "max_height": null,
            "align_content": null,
            "visibility": null,
            "align_self": null,
            "height": null,
            "min_height": null,
            "padding": null,
            "grid_auto_rows": null,
            "grid_gap": null,
            "max_width": null,
            "order": null,
            "_view_module_version": "1.2.0",
            "grid_template_areas": null,
            "object_position": null,
            "object_fit": null,
            "grid_auto_columns": null,
            "margin": null,
            "display": null,
            "left": null
          }
        },
        "47bfbf2040f949e6997f03945229fcee": {
          "model_module": "@jupyter-widgets/controls",
          "model_name": "HBoxModel",
          "state": {
            "_view_name": "HBoxView",
            "_dom_classes": [],
            "_model_name": "HBoxModel",
            "_view_module": "@jupyter-widgets/controls",
            "_model_module_version": "1.5.0",
            "_view_count": null,
            "_view_module_version": "1.5.0",
            "box_style": "",
            "layout": "IPY_MODEL_f5990636cbb340d4ade5988336e21fba",
            "_model_module": "@jupyter-widgets/controls",
            "children": [
              "IPY_MODEL_d92e94c70d3c498e801b6b7ebcca2cb2",
              "IPY_MODEL_5bb0c1da930b4b2d82fabcfc44ee1094"
            ]
          }
        },
        "f5990636cbb340d4ade5988336e21fba": {
          "model_module": "@jupyter-widgets/base",
          "model_name": "LayoutModel",
          "state": {
            "_view_name": "LayoutView",
            "grid_template_rows": null,
            "right": null,
            "justify_content": null,
            "_view_module": "@jupyter-widgets/base",
            "overflow": null,
            "_model_module_version": "1.2.0",
            "_view_count": null,
            "flex_flow": null,
            "width": null,
            "min_width": null,
            "border": null,
            "align_items": null,
            "bottom": null,
            "_model_module": "@jupyter-widgets/base",
            "top": null,
            "grid_column": null,
            "overflow_y": null,
            "overflow_x": null,
            "grid_auto_flow": null,
            "grid_area": null,
            "grid_template_columns": null,
            "flex": null,
            "_model_name": "LayoutModel",
            "justify_items": null,
            "grid_row": null,
            "max_height": null,
            "align_content": null,
            "visibility": null,
            "align_self": null,
            "height": null,
            "min_height": null,
            "padding": null,
            "grid_auto_rows": null,
            "grid_gap": null,
            "max_width": null,
            "order": null,
            "_view_module_version": "1.2.0",
            "grid_template_areas": null,
            "object_position": null,
            "object_fit": null,
            "grid_auto_columns": null,
            "margin": null,
            "display": null,
            "left": null
          }
        },
        "d92e94c70d3c498e801b6b7ebcca2cb2": {
          "model_module": "@jupyter-widgets/controls",
          "model_name": "FloatProgressModel",
          "state": {
            "_view_name": "ProgressView",
            "style": "IPY_MODEL_e87b3add18ad49dcac7219bedf94ceba",
            "_dom_classes": [],
            "description": "100%",
            "_model_name": "FloatProgressModel",
            "bar_style": "success",
            "max": 1746,
            "_view_module": "@jupyter-widgets/controls",
            "_model_module_version": "1.5.0",
            "value": 1746,
            "_view_count": null,
            "_view_module_version": "1.5.0",
            "orientation": "horizontal",
            "min": 0,
            "description_tooltip": null,
            "_model_module": "@jupyter-widgets/controls",
            "layout": "IPY_MODEL_309fddbdb3454163b28298cefb805cb5"
          }
        },
        "5bb0c1da930b4b2d82fabcfc44ee1094": {
          "model_module": "@jupyter-widgets/controls",
          "model_name": "HTMLModel",
          "state": {
            "_view_name": "HTMLView",
            "style": "IPY_MODEL_61e012f6f5b144189a1dd5a52ef628b4",
            "_dom_classes": [],
            "description": "",
            "_model_name": "HTMLModel",
            "placeholder": "​",
            "_view_module": "@jupyter-widgets/controls",
            "_model_module_version": "1.5.0",
            "value": " 1746/1746 [00:18&lt;00:00, 94.56it/s]",
            "_view_count": null,
            "_view_module_version": "1.5.0",
            "description_tooltip": null,
            "_model_module": "@jupyter-widgets/controls",
            "layout": "IPY_MODEL_3914a5fddbe2441ebeebe55251eaccb5"
          }
        },
        "e87b3add18ad49dcac7219bedf94ceba": {
          "model_module": "@jupyter-widgets/controls",
          "model_name": "ProgressStyleModel",
          "state": {
            "_view_name": "StyleView",
            "_model_name": "ProgressStyleModel",
            "description_width": "initial",
            "_view_module": "@jupyter-widgets/base",
            "_model_module_version": "1.5.0",
            "_view_count": null,
            "_view_module_version": "1.2.0",
            "bar_color": null,
            "_model_module": "@jupyter-widgets/controls"
          }
        },
        "309fddbdb3454163b28298cefb805cb5": {
          "model_module": "@jupyter-widgets/base",
          "model_name": "LayoutModel",
          "state": {
            "_view_name": "LayoutView",
            "grid_template_rows": null,
            "right": null,
            "justify_content": null,
            "_view_module": "@jupyter-widgets/base",
            "overflow": null,
            "_model_module_version": "1.2.0",
            "_view_count": null,
            "flex_flow": null,
            "width": null,
            "min_width": null,
            "border": null,
            "align_items": null,
            "bottom": null,
            "_model_module": "@jupyter-widgets/base",
            "top": null,
            "grid_column": null,
            "overflow_y": null,
            "overflow_x": null,
            "grid_auto_flow": null,
            "grid_area": null,
            "grid_template_columns": null,
            "flex": null,
            "_model_name": "LayoutModel",
            "justify_items": null,
            "grid_row": null,
            "max_height": null,
            "align_content": null,
            "visibility": null,
            "align_self": null,
            "height": null,
            "min_height": null,
            "padding": null,
            "grid_auto_rows": null,
            "grid_gap": null,
            "max_width": null,
            "order": null,
            "_view_module_version": "1.2.0",
            "grid_template_areas": null,
            "object_position": null,
            "object_fit": null,
            "grid_auto_columns": null,
            "margin": null,
            "display": null,
            "left": null
          }
        },
        "61e012f6f5b144189a1dd5a52ef628b4": {
          "model_module": "@jupyter-widgets/controls",
          "model_name": "DescriptionStyleModel",
          "state": {
            "_view_name": "StyleView",
            "_model_name": "DescriptionStyleModel",
            "description_width": "",
            "_view_module": "@jupyter-widgets/base",
            "_model_module_version": "1.5.0",
            "_view_count": null,
            "_view_module_version": "1.2.0",
            "_model_module": "@jupyter-widgets/controls"
          }
        },
        "3914a5fddbe2441ebeebe55251eaccb5": {
          "model_module": "@jupyter-widgets/base",
          "model_name": "LayoutModel",
          "state": {
            "_view_name": "LayoutView",
            "grid_template_rows": null,
            "right": null,
            "justify_content": null,
            "_view_module": "@jupyter-widgets/base",
            "overflow": null,
            "_model_module_version": "1.2.0",
            "_view_count": null,
            "flex_flow": null,
            "width": null,
            "min_width": null,
            "border": null,
            "align_items": null,
            "bottom": null,
            "_model_module": "@jupyter-widgets/base",
            "top": null,
            "grid_column": null,
            "overflow_y": null,
            "overflow_x": null,
            "grid_auto_flow": null,
            "grid_area": null,
            "grid_template_columns": null,
            "flex": null,
            "_model_name": "LayoutModel",
            "justify_items": null,
            "grid_row": null,
            "max_height": null,
            "align_content": null,
            "visibility": null,
            "align_self": null,
            "height": null,
            "min_height": null,
            "padding": null,
            "grid_auto_rows": null,
            "grid_gap": null,
            "max_width": null,
            "order": null,
            "_view_module_version": "1.2.0",
            "grid_template_areas": null,
            "object_position": null,
            "object_fit": null,
            "grid_auto_columns": null,
            "margin": null,
            "display": null,
            "left": null
          }
        },
        "5d3c47eb7afe4047bcb17e454cf473cc": {
          "model_module": "@jupyter-widgets/controls",
          "model_name": "HBoxModel",
          "state": {
            "_view_name": "HBoxView",
            "_dom_classes": [],
            "_model_name": "HBoxModel",
            "_view_module": "@jupyter-widgets/controls",
            "_model_module_version": "1.5.0",
            "_view_count": null,
            "_view_module_version": "1.5.0",
            "box_style": "",
            "layout": "IPY_MODEL_ac0f71a08d0a4f1b9df2b30643ce5bc7",
            "_model_module": "@jupyter-widgets/controls",
            "children": [
              "IPY_MODEL_56e5471755a94baa8177de7b562334c7",
              "IPY_MODEL_2684a42cf23145aeb989ae80e5e40d09"
            ]
          }
        },
        "ac0f71a08d0a4f1b9df2b30643ce5bc7": {
          "model_module": "@jupyter-widgets/base",
          "model_name": "LayoutModel",
          "state": {
            "_view_name": "LayoutView",
            "grid_template_rows": null,
            "right": null,
            "justify_content": null,
            "_view_module": "@jupyter-widgets/base",
            "overflow": null,
            "_model_module_version": "1.2.0",
            "_view_count": null,
            "flex_flow": null,
            "width": null,
            "min_width": null,
            "border": null,
            "align_items": null,
            "bottom": null,
            "_model_module": "@jupyter-widgets/base",
            "top": null,
            "grid_column": null,
            "overflow_y": null,
            "overflow_x": null,
            "grid_auto_flow": null,
            "grid_area": null,
            "grid_template_columns": null,
            "flex": null,
            "_model_name": "LayoutModel",
            "justify_items": null,
            "grid_row": null,
            "max_height": null,
            "align_content": null,
            "visibility": null,
            "align_self": null,
            "height": null,
            "min_height": null,
            "padding": null,
            "grid_auto_rows": null,
            "grid_gap": null,
            "max_width": null,
            "order": null,
            "_view_module_version": "1.2.0",
            "grid_template_areas": null,
            "object_position": null,
            "object_fit": null,
            "grid_auto_columns": null,
            "margin": null,
            "display": null,
            "left": null
          }
        },
        "56e5471755a94baa8177de7b562334c7": {
          "model_module": "@jupyter-widgets/controls",
          "model_name": "FloatProgressModel",
          "state": {
            "_view_name": "ProgressView",
            "style": "IPY_MODEL_88ab000fe7df4b30b72494143ad5e4fd",
            "_dom_classes": [],
            "description": "100%",
            "_model_name": "FloatProgressModel",
            "bar_style": "success",
            "max": 1055,
            "_view_module": "@jupyter-widgets/controls",
            "_model_module_version": "1.5.0",
            "value": 1055,
            "_view_count": null,
            "_view_module_version": "1.5.0",
            "orientation": "horizontal",
            "min": 0,
            "description_tooltip": null,
            "_model_module": "@jupyter-widgets/controls",
            "layout": "IPY_MODEL_9a20520409314f4eb819b521dcfc0c7c"
          }
        },
        "2684a42cf23145aeb989ae80e5e40d09": {
          "model_module": "@jupyter-widgets/controls",
          "model_name": "HTMLModel",
          "state": {
            "_view_name": "HTMLView",
            "style": "IPY_MODEL_9ed0dbe079834fefaac7cc13e368f92f",
            "_dom_classes": [],
            "description": "",
            "_model_name": "HTMLModel",
            "placeholder": "​",
            "_view_module": "@jupyter-widgets/controls",
            "_model_module_version": "1.5.0",
            "value": " 1055/1055 [00:07&lt;00:00, 141.69it/s]",
            "_view_count": null,
            "_view_module_version": "1.5.0",
            "description_tooltip": null,
            "_model_module": "@jupyter-widgets/controls",
            "layout": "IPY_MODEL_c4d8fad6c1f44a60bb56872b59517703"
          }
        },
        "88ab000fe7df4b30b72494143ad5e4fd": {
          "model_module": "@jupyter-widgets/controls",
          "model_name": "ProgressStyleModel",
          "state": {
            "_view_name": "StyleView",
            "_model_name": "ProgressStyleModel",
            "description_width": "initial",
            "_view_module": "@jupyter-widgets/base",
            "_model_module_version": "1.5.0",
            "_view_count": null,
            "_view_module_version": "1.2.0",
            "bar_color": null,
            "_model_module": "@jupyter-widgets/controls"
          }
        },
        "9a20520409314f4eb819b521dcfc0c7c": {
          "model_module": "@jupyter-widgets/base",
          "model_name": "LayoutModel",
          "state": {
            "_view_name": "LayoutView",
            "grid_template_rows": null,
            "right": null,
            "justify_content": null,
            "_view_module": "@jupyter-widgets/base",
            "overflow": null,
            "_model_module_version": "1.2.0",
            "_view_count": null,
            "flex_flow": null,
            "width": null,
            "min_width": null,
            "border": null,
            "align_items": null,
            "bottom": null,
            "_model_module": "@jupyter-widgets/base",
            "top": null,
            "grid_column": null,
            "overflow_y": null,
            "overflow_x": null,
            "grid_auto_flow": null,
            "grid_area": null,
            "grid_template_columns": null,
            "flex": null,
            "_model_name": "LayoutModel",
            "justify_items": null,
            "grid_row": null,
            "max_height": null,
            "align_content": null,
            "visibility": null,
            "align_self": null,
            "height": null,
            "min_height": null,
            "padding": null,
            "grid_auto_rows": null,
            "grid_gap": null,
            "max_width": null,
            "order": null,
            "_view_module_version": "1.2.0",
            "grid_template_areas": null,
            "object_position": null,
            "object_fit": null,
            "grid_auto_columns": null,
            "margin": null,
            "display": null,
            "left": null
          }
        },
        "9ed0dbe079834fefaac7cc13e368f92f": {
          "model_module": "@jupyter-widgets/controls",
          "model_name": "DescriptionStyleModel",
          "state": {
            "_view_name": "StyleView",
            "_model_name": "DescriptionStyleModel",
            "description_width": "",
            "_view_module": "@jupyter-widgets/base",
            "_model_module_version": "1.5.0",
            "_view_count": null,
            "_view_module_version": "1.2.0",
            "_model_module": "@jupyter-widgets/controls"
          }
        },
        "c4d8fad6c1f44a60bb56872b59517703": {
          "model_module": "@jupyter-widgets/base",
          "model_name": "LayoutModel",
          "state": {
            "_view_name": "LayoutView",
            "grid_template_rows": null,
            "right": null,
            "justify_content": null,
            "_view_module": "@jupyter-widgets/base",
            "overflow": null,
            "_model_module_version": "1.2.0",
            "_view_count": null,
            "flex_flow": null,
            "width": null,
            "min_width": null,
            "border": null,
            "align_items": null,
            "bottom": null,
            "_model_module": "@jupyter-widgets/base",
            "top": null,
            "grid_column": null,
            "overflow_y": null,
            "overflow_x": null,
            "grid_auto_flow": null,
            "grid_area": null,
            "grid_template_columns": null,
            "flex": null,
            "_model_name": "LayoutModel",
            "justify_items": null,
            "grid_row": null,
            "max_height": null,
            "align_content": null,
            "visibility": null,
            "align_self": null,
            "height": null,
            "min_height": null,
            "padding": null,
            "grid_auto_rows": null,
            "grid_gap": null,
            "max_width": null,
            "order": null,
            "_view_module_version": "1.2.0",
            "grid_template_areas": null,
            "object_position": null,
            "object_fit": null,
            "grid_auto_columns": null,
            "margin": null,
            "display": null,
            "left": null
          }
        }
      }
    }
  },
  "cells": [
    {
      "cell_type": "markdown",
      "metadata": {
        "id": "view-in-github",
        "colab_type": "text"
      },
      "source": [
        "<a href=\"https://colab.research.google.com/github/Az-Ks/CGIAR_Solution_Code_To_Get_4th_Place/blob/main/CGIAR_SOLUTION_4th_Place.ipynb\" target=\"_parent\"><img src=\"https://colab.research.google.com/assets/colab-badge.svg\" alt=\"Open In Colab\"/></a>"
      ]
    },
    {
      "cell_type": "markdown",
      "metadata": {
        "id": "5SQc6gRPqd_p"
      },
      "source": [
        "# **Setup**"
      ]
    },
    {
      "cell_type": "code",
      "metadata": {
        "colab": {
          "base_uri": "https://localhost:8080/"
        },
        "id": "3oBQvX59qcwx",
        "outputId": "0e497754-5c55-4d13-9472-0c96b2b5801d"
      },
      "source": [
        "!gdown --id 1uK-hU99aZHa40HlCfgaolGR-_iPYfXfW\r\n",
        "!unzip -q '/content/Crop_data.zip'"
      ],
      "execution_count": 1,
      "outputs": [
        {
          "output_type": "stream",
          "text": [
            "Downloading...\n",
            "From: https://drive.google.com/uc?id=1uK-hU99aZHa40HlCfgaolGR-_iPYfXfW\n",
            "To: /content/Crop_data.zip\n",
            "928MB [00:07, 119MB/s]\n"
          ],
          "name": "stdout"
        }
      ]
    },
    {
      "cell_type": "code",
      "metadata": {
        "id": "FjwRW2FhqqCI",
        "colab": {
          "base_uri": "https://localhost:8080/"
        },
        "outputId": "253dd46b-059e-434a-d552-4bc656e7b2af"
      },
      "source": [
        "%%time\r\n",
        "# Extract\r\n",
        "!unzip -q '/content/Crop_data/image_arrays_test.zip'\r\n",
        "!unzip -q '/content/Crop_data/image_arrays_train.zip'"
      ],
      "execution_count": 2,
      "outputs": [
        {
          "output_type": "stream",
          "text": [
            "CPU times: user 426 ms, sys: 76.2 ms, total: 502 ms\n",
            "Wall time: 2min 44s\n"
          ],
          "name": "stdout"
        }
      ]
    },
    {
      "cell_type": "code",
      "metadata": {
        "id": "0T8M6qjRqriC"
      },
      "source": [
        "# Copying in the zip files from Google Drive (alternately just upload them)\r\n",
        "!cp '/content/Crop_data/Train.csv' .\r\n",
        "!cp '/content/Crop_data/SampleSubmission.csv' .\r\n",
        "!cp '/content/Crop_data/bandnames.txt' .\r\n",
        "!cp '/content/Crop_data/fields_w_additional_info.csv' ."
      ],
      "execution_count": 3,
      "outputs": []
    },
    {
      "cell_type": "markdown",
      "metadata": {
        "id": "r1BSbqVayyw8"
      },
      "source": [
        "# **Helpers**"
      ]
    },
    {
      "cell_type": "markdown",
      "metadata": {
        "id": "ob3NhJYr02i7"
      },
      "source": [
        "\r\n",
        "\r\n",
        "## 1.   **addtional_is_Useful**\r\n",
        "\r\n"
      ]
    },
    {
      "cell_type": "markdown",
      "metadata": {
        "id": "Y8BhyXTry6Sl"
      },
      "source": [
        "\r\n",
        "\r\n",
        "\r\n",
        "\r\n",
        " >  **Instead of using all the Adittional Data , we will use just some statictics over 4 Years :** \r\n",
        "```\r\n",
        "1.   Average Over 4 Years By Each Month in Maize Season in kenya for some Climat Variables \r\n",
        "2.   Select Specific Soil Features\r\n",
        "```\r\n",
        "\r\n",
        " \r\n",
        "\r\n",
        "\r\n",
        "\r\n",
        "\r\n",
        "\r\n",
        "\r\n"
      ]
    },
    {
      "cell_type": "code",
      "metadata": {
        "id": "aQa_SpftqtJx"
      },
      "source": [
        "def addtional_is_Useful(additional,soil_cols) : \r\n",
        "  \r\n",
        "  additional_ = pd.DataFrame()\r\n",
        "  climat = ['pr','tmmn','tmmx'] \r\n",
        "\r\n",
        "  for month in range(3,10) :  \r\n",
        "    for  climat_ in climat :\r\n",
        "      features_ = []\r\n",
        "      for year in [2016,2017,2018,2019] :\r\n",
        "          features_.append('climate_'+str(year) + '_' + str(month) + f'_{climat_}' )\r\n",
        "      additional_[f'ADDITIONAL_PER_4_YEARS_mean_{month-1}_{climat_}'] = additional[features_].mean(axis=1)\r\n",
        "  \r\n",
        "  # Soil Columns\r\n",
        "  for col in special_cols : \r\n",
        "    additional_[col] = additional[col]\r\n",
        "  return additional_"
      ],
      "execution_count": 126,
      "outputs": []
    },
    {
      "cell_type": "markdown",
      "metadata": {
        "id": "ZeZagQUx0ulE"
      },
      "source": [
        "## **Vegetation - Indexs**"
      ]
    },
    {
      "cell_type": "markdown",
      "metadata": {
        "id": "WXV6QDj91Bdz"
      },
      "source": [
        "### **1. NDVI (Normalized Difference Vegetation  Indexes)**"
      ]
    },
    {
      "cell_type": "markdown",
      "metadata": {
        "id": "om60P2Bx1Oob"
      },
      "source": [
        "\r\n",
        "\r\n",
        "> **General formula: (MIR - NIR) / (MIR + NIR)**\r\n",
        "\r\n"
      ]
    },
    {
      "cell_type": "code",
      "metadata": {
        "id": "jo1pqopn0oty"
      },
      "source": [
        "def get_NDVI_data(fid, folder='image_arrays_train') :\r\n",
        "  fn = f'{folder}/{fid}.npy'\r\n",
        "  arr = np.load(fn)\r\n",
        "  bands_of_interest = ['S2_B4', 'S2_B8']\r\n",
        "  values = {}\r\n",
        "  \r\n",
        "  for month in range(12): \r\n",
        "    bns = [str(month) + '_' + b for b in bands_of_interest] \r\n",
        "    idxs = np.where(np.isin(band_names, bns)) \r\n",
        "    \r\n",
        "    NDVI_arr = (arr[idxs][1].astype(int)-arr[idxs][0].astype(int)) / (arr[idxs][1].astype(int)+arr[idxs][0].astype(int))\r\n",
        "    values['NDVI_Median_'+str(month)] = np.median(NDVI_arr)\r\n",
        "  \r\n",
        "  for month in [0,3,4,5,6,7,8,9,10]: \r\n",
        "    bns = [str(month) + '_' + b for b in bands_of_interest] \r\n",
        "    idxs = np.where(np.isin(band_names, bns)) \r\n",
        "    \r\n",
        "    NDVI_arr = (arr[idxs][1].astype(int)-arr[idxs][0].astype(int)) / (arr[idxs][1].astype(int)+arr[idxs][0].astype(int))\r\n",
        "    values['NDVI_Min_'+str(month)] = NDVI_arr.min()\r\n",
        "    values['NDVI_Max_'+str(month)] = NDVI_arr.max()\r\n",
        " \r\n",
        "  return values"
      ],
      "execution_count": 5,
      "outputs": []
    },
    {
      "cell_type": "markdown",
      "metadata": {
        "id": "a1NgCJhD12wT"
      },
      "source": [
        "### **2. EVI (Enhanced Vegetation Index)**"
      ]
    },
    {
      "cell_type": "markdown",
      "metadata": {
        "id": "bNh1TpQu12wZ"
      },
      "source": [
        "\r\n",
        "\r\n",
        "> **General formula: 2.5 * (NIR - RED) / ((NIR + 6*RED - 7.5*BLUE) + 1)**\r\n",
        "\r\n"
      ]
    },
    {
      "cell_type": "code",
      "metadata": {
        "id": "v2BHkVe_12wZ"
      },
      "source": [
        "def get_EVI_data(fid, folder='image_arrays_train') :\r\n",
        "  fn = f'{folder}/{fid}.npy'\r\n",
        "  arr = np.load(fn)\r\n",
        "  bands_of_interest = ['S2_B4', 'S2_B8','S2_B2']\r\n",
        "  values = {}\r\n",
        "  \r\n",
        "  for month in range(12): \r\n",
        "    bns = [str(month) + '_' + b for b in bands_of_interest] \r\n",
        "    idxs = np.where(np.isin(band_names, bns)) \r\n",
        "    B08 = arr[idxs][1].astype(int)\r\n",
        "    B04 = arr[idxs][0].astype(int)\r\n",
        "    B02 = arr[idxs][2].astype(int)\r\n",
        "    \r\n",
        "    EVI_arr = 2.5 * (B08 - B04) / ((B08 + 6.0 * B04 - 7.5 * B02) + 1.0)\r\n",
        "    values['EVI_Median_'+str(month)] = np.median(EVI_arr)\r\n",
        "  \r\n",
        "  for month in [2,3,4,5,6,7,8,9,10,11]:\r\n",
        "    bns = [str(month) + '_' + b for b in bands_of_interest] \r\n",
        "    idxs = np.where(np.isin(band_names, bns)) \r\n",
        "    B08 = arr[idxs][1].astype(int)\r\n",
        "    B04 = arr[idxs][0].astype(int)\r\n",
        "    B02 = arr[idxs][2].astype(int)\r\n",
        "    \r\n",
        "    EVI_arr = 2.5 * (B08 - B04) / ((B08 + 6.0 * B04 - 7.5 * B02) + 1.0)\r\n",
        "    values['EVI_Max_'+str(month)] = EVI_arr.max()\r\n",
        "  \r\n",
        "  return values"
      ],
      "execution_count": 6,
      "outputs": []
    },
    {
      "cell_type": "markdown",
      "metadata": {
        "id": "-2RLczu94vPi"
      },
      "source": [
        "### **3. SAVI (Soil Adjusted Vegetation Index)**"
      ]
    },
    {
      "cell_type": "markdown",
      "metadata": {
        "id": "I53WX20A4vPk"
      },
      "source": [
        "\r\n",
        "\r\n",
        "> **General formula : (B08 - B04) / (B08 + B04 + L) * (1.0 + L)**\r\n",
        "\r\n"
      ]
    },
    {
      "cell_type": "code",
      "metadata": {
        "id": "7UYm2OOd4vPk"
      },
      "source": [
        "def get_SAVI_data(fid, folder='image_arrays_train') :\r\n",
        "  fn = f'{folder}/{fid}.npy'\r\n",
        "  arr = np.load(fn)\r\n",
        "  bands_of_interest = ['S2_B4', 'S2_B8']\r\n",
        "  L = 0.725\r\n",
        "  values = {}\r\n",
        "  \r\n",
        "  for month in range(12): \r\n",
        "    bns = [str(month) + '_' + b for b in bands_of_interest] \r\n",
        "    idxs = np.where(np.isin(band_names, bns)) \r\n",
        "    B08 = arr[idxs][1].astype(int)\r\n",
        "    B04 = arr[idxs][0].astype(int)\r\n",
        "    \r\n",
        "    SAVI_arr = (B08 - B04) / (B08 + B04 + L) * (1.0 + L)\r\n",
        "    values['SAVI_Max_'+str(month)] = SAVI_arr.max()\r\n",
        "  \r\n",
        "  return values"
      ],
      "execution_count": 7,
      "outputs": []
    },
    {
      "cell_type": "markdown",
      "metadata": {
        "id": "P1CswNA67PTw"
      },
      "source": [
        "## **Features From Red Bands**"
      ]
    },
    {
      "cell_type": "code",
      "metadata": {
        "id": "8tTsYpEy6Vzs"
      },
      "source": [
        "def get_features_fromBands(fid, folder='image_arrays_train',bands=None,Band_Names=None) :\r\n",
        "  fn = f'{folder}/{fid}.npy'\r\n",
        "  arr = np.load(fn)\r\n",
        "  \r\n",
        "  final_values = {}\r\n",
        "  for bands_idx in range(len(bands)) : \r\n",
        "    bands_of_interest = bands[bands_idx]\r\n",
        "    Name = Band_Names[bands_idx]\r\n",
        "    values = {}\r\n",
        "    for month in range(12):\r\n",
        "      bns = [str(month) + '_' + b for b in bands_of_interest] \r\n",
        "      idxs = np.where(np.isin(band_names, bns)) \r\n",
        "      Relation_arr = arr[idxs][1].astype(int) / arr[idxs][0].astype(int) \r\n",
        "      \r\n",
        "      values[f'BANDS_FEATURES_Median_{Name}_'+str(month)] = np.median(Relation_arr)\r\n",
        "    \r\n",
        "    final_values.update(values)\r\n",
        "  return final_values"
      ],
      "execution_count": 10,
      "outputs": []
    },
    {
      "cell_type": "markdown",
      "metadata": {
        "id": "Ja2BWU98B9eM"
      },
      "source": [
        "# **Data - Preparation**"
      ]
    },
    {
      "cell_type": "code",
      "metadata": {
        "id": "TFdgnFeX8cUn"
      },
      "source": [
        "import pandas as pd \r\n",
        "import numpy as np  \r\n",
        "from matplotlib import pyplot as plt  \r\n",
        "import seaborn as sns\r\n",
        "import warnings\r\n",
        "\r\n",
        "import tqdm \r\n",
        "from tqdm import tqdm_notebook as tqdm \r\n",
        "warnings.simplefilter('ignore')"
      ],
      "execution_count": 11,
      "outputs": []
    },
    {
      "cell_type": "code",
      "metadata": {
        "colab": {
          "base_uri": "https://localhost:8080/"
        },
        "id": "yvu8HtnRCJte",
        "outputId": "6784851b-6c7d-4b5a-f182-90e3565dccdd"
      },
      "source": [
        "# Load   -- Train | additional | sampleSubmission \r\n",
        "\r\n",
        "train = pd.read_csv('Train.csv')\r\n",
        "additional = pd.read_csv('fields_w_additional_info.csv')\r\n",
        "ss = pd.read_csv('SampleSubmission.csv')\r\n",
        "\r\n",
        "ss_year= pd.read_csv('test_field_ids_with_year.csv') # upload it in your local session\r\n",
        "\r\n",
        "print('| train shape :' , train.shape,'  |   test shape : ',ss.shape, '  |   addtional shape : ',additional.shape,'  |  ')"
      ],
      "execution_count": 127,
      "outputs": [
        {
          "output_type": "stream",
          "text": [
            "| train shape : (2977, 4)   |   test shape :  (1055, 2)   |   addtional shape :  (4032, 684)   |  \n"
          ],
          "name": "stdout"
        }
      ]
    },
    {
      "cell_type": "code",
      "metadata": {
        "colab": {
          "base_uri": "https://localhost:8080/",
          "height": 258
        },
        "id": "ELtQ-HtiCmbj",
        "outputId": "1196ca80-de08-4e74-d2b7-4d85a2dfec7c"
      },
      "source": [
        "### Additional Data ###\r\n",
        "special_cols =   additional.columns[:12]   \r\n",
        "additional_ = addtional_is_Useful(additional,special_cols)\r\n",
        "\r\n",
        "print(additional_.shape)\r\n",
        "additional_.head()"
      ],
      "execution_count": 128,
      "outputs": [
        {
          "output_type": "stream",
          "text": [
            "(4032, 33)\n"
          ],
          "name": "stdout"
        },
        {
          "output_type": "execute_result",
          "data": {
            "text/html": [
              "<div>\n",
              "<style scoped>\n",
              "    .dataframe tbody tr th:only-of-type {\n",
              "        vertical-align: middle;\n",
              "    }\n",
              "\n",
              "    .dataframe tbody tr th {\n",
              "        vertical-align: top;\n",
              "    }\n",
              "\n",
              "    .dataframe thead th {\n",
              "        text-align: right;\n",
              "    }\n",
              "</style>\n",
              "<table border=\"1\" class=\"dataframe\">\n",
              "  <thead>\n",
              "    <tr style=\"text-align: right;\">\n",
              "      <th></th>\n",
              "      <th>ADDITIONAL_PER_4_YEARS_mean_2_pr</th>\n",
              "      <th>ADDITIONAL_PER_4_YEARS_mean_2_tmmn</th>\n",
              "      <th>ADDITIONAL_PER_4_YEARS_mean_2_tmmx</th>\n",
              "      <th>ADDITIONAL_PER_4_YEARS_mean_3_pr</th>\n",
              "      <th>ADDITIONAL_PER_4_YEARS_mean_3_tmmn</th>\n",
              "      <th>ADDITIONAL_PER_4_YEARS_mean_3_tmmx</th>\n",
              "      <th>ADDITIONAL_PER_4_YEARS_mean_4_pr</th>\n",
              "      <th>ADDITIONAL_PER_4_YEARS_mean_4_tmmn</th>\n",
              "      <th>ADDITIONAL_PER_4_YEARS_mean_4_tmmx</th>\n",
              "      <th>ADDITIONAL_PER_4_YEARS_mean_5_pr</th>\n",
              "      <th>ADDITIONAL_PER_4_YEARS_mean_5_tmmn</th>\n",
              "      <th>ADDITIONAL_PER_4_YEARS_mean_5_tmmx</th>\n",
              "      <th>ADDITIONAL_PER_4_YEARS_mean_6_pr</th>\n",
              "      <th>ADDITIONAL_PER_4_YEARS_mean_6_tmmn</th>\n",
              "      <th>ADDITIONAL_PER_4_YEARS_mean_6_tmmx</th>\n",
              "      <th>ADDITIONAL_PER_4_YEARS_mean_7_pr</th>\n",
              "      <th>ADDITIONAL_PER_4_YEARS_mean_7_tmmn</th>\n",
              "      <th>ADDITIONAL_PER_4_YEARS_mean_7_tmmx</th>\n",
              "      <th>ADDITIONAL_PER_4_YEARS_mean_8_pr</th>\n",
              "      <th>ADDITIONAL_PER_4_YEARS_mean_8_tmmn</th>\n",
              "      <th>ADDITIONAL_PER_4_YEARS_mean_8_tmmx</th>\n",
              "      <th>Field_ID</th>\n",
              "      <th>soil_bdod_5-15cm_mean</th>\n",
              "      <th>soil_cec_5-15cm_mean</th>\n",
              "      <th>soil_cfvo_5-15cm_mean</th>\n",
              "      <th>soil_clay_5-15cm_mean</th>\n",
              "      <th>soil_nitrogen_5-15cm_mean</th>\n",
              "      <th>soil_ocd_5-15cm_mean</th>\n",
              "      <th>soil_ocs_0-30cm_mean</th>\n",
              "      <th>soil_phh2o_5-15cm_mean</th>\n",
              "      <th>soil_sand_5-15cm_mean</th>\n",
              "      <th>soil_silt_5-15cm_mean</th>\n",
              "      <th>soil_soc_5-15cm_mean</th>\n",
              "    </tr>\n",
              "  </thead>\n",
              "  <tbody>\n",
              "    <tr>\n",
              "      <th>0</th>\n",
              "      <td>41.25</td>\n",
              "      <td>113.25</td>\n",
              "      <td>287.75</td>\n",
              "      <td>138.50</td>\n",
              "      <td>119.00</td>\n",
              "      <td>276.25</td>\n",
              "      <td>156.25</td>\n",
              "      <td>115.50</td>\n",
              "      <td>262.50</td>\n",
              "      <td>109.75</td>\n",
              "      <td>109.25</td>\n",
              "      <td>259.75</td>\n",
              "      <td>81.50</td>\n",
              "      <td>106.75</td>\n",
              "      <td>246.50</td>\n",
              "      <td>114.75</td>\n",
              "      <td>105.75</td>\n",
              "      <td>250.50</td>\n",
              "      <td>66.75</td>\n",
              "      <td>101.75</td>\n",
              "      <td>260.75</td>\n",
              "      <td>MH2O0YH</td>\n",
              "      <td>118.0</td>\n",
              "      <td>257.0</td>\n",
              "      <td>85.0</td>\n",
              "      <td>463.0</td>\n",
              "      <td>2458.0</td>\n",
              "      <td>323.0</td>\n",
              "      <td>57.0</td>\n",
              "      <td>59.0</td>\n",
              "      <td>308.0</td>\n",
              "      <td>229.0</td>\n",
              "      <td>330.0</td>\n",
              "    </tr>\n",
              "    <tr>\n",
              "      <th>1</th>\n",
              "      <td>39.75</td>\n",
              "      <td>112.50</td>\n",
              "      <td>296.00</td>\n",
              "      <td>127.25</td>\n",
              "      <td>113.75</td>\n",
              "      <td>282.25</td>\n",
              "      <td>133.25</td>\n",
              "      <td>111.25</td>\n",
              "      <td>271.75</td>\n",
              "      <td>106.25</td>\n",
              "      <td>106.50</td>\n",
              "      <td>266.75</td>\n",
              "      <td>75.25</td>\n",
              "      <td>101.25</td>\n",
              "      <td>255.00</td>\n",
              "      <td>113.25</td>\n",
              "      <td>101.50</td>\n",
              "      <td>259.00</td>\n",
              "      <td>66.50</td>\n",
              "      <td>97.25</td>\n",
              "      <td>266.75</td>\n",
              "      <td>O9TURWL</td>\n",
              "      <td>120.0</td>\n",
              "      <td>288.0</td>\n",
              "      <td>84.0</td>\n",
              "      <td>462.0</td>\n",
              "      <td>2108.0</td>\n",
              "      <td>306.0</td>\n",
              "      <td>58.0</td>\n",
              "      <td>61.0</td>\n",
              "      <td>243.0</td>\n",
              "      <td>295.0</td>\n",
              "      <td>280.0</td>\n",
              "    </tr>\n",
              "    <tr>\n",
              "      <th>2</th>\n",
              "      <td>40.25</td>\n",
              "      <td>114.50</td>\n",
              "      <td>296.75</td>\n",
              "      <td>130.25</td>\n",
              "      <td>116.25</td>\n",
              "      <td>283.25</td>\n",
              "      <td>133.25</td>\n",
              "      <td>112.50</td>\n",
              "      <td>272.50</td>\n",
              "      <td>103.75</td>\n",
              "      <td>107.75</td>\n",
              "      <td>267.75</td>\n",
              "      <td>74.75</td>\n",
              "      <td>103.00</td>\n",
              "      <td>255.75</td>\n",
              "      <td>111.50</td>\n",
              "      <td>103.50</td>\n",
              "      <td>260.25</td>\n",
              "      <td>64.25</td>\n",
              "      <td>99.25</td>\n",
              "      <td>268.25</td>\n",
              "      <td>35AFSDD</td>\n",
              "      <td>120.0</td>\n",
              "      <td>263.0</td>\n",
              "      <td>102.0</td>\n",
              "      <td>495.0</td>\n",
              "      <td>1991.0</td>\n",
              "      <td>288.0</td>\n",
              "      <td>58.0</td>\n",
              "      <td>60.0</td>\n",
              "      <td>271.0</td>\n",
              "      <td>234.0</td>\n",
              "      <td>284.0</td>\n",
              "    </tr>\n",
              "    <tr>\n",
              "      <th>3</th>\n",
              "      <td>40.00</td>\n",
              "      <td>114.25</td>\n",
              "      <td>286.00</td>\n",
              "      <td>139.00</td>\n",
              "      <td>119.00</td>\n",
              "      <td>274.25</td>\n",
              "      <td>162.75</td>\n",
              "      <td>116.75</td>\n",
              "      <td>261.50</td>\n",
              "      <td>112.00</td>\n",
              "      <td>109.25</td>\n",
              "      <td>256.75</td>\n",
              "      <td>82.75</td>\n",
              "      <td>107.75</td>\n",
              "      <td>243.25</td>\n",
              "      <td>114.00</td>\n",
              "      <td>106.25</td>\n",
              "      <td>248.75</td>\n",
              "      <td>67.75</td>\n",
              "      <td>101.50</td>\n",
              "      <td>258.50</td>\n",
              "      <td>PM05EG9</td>\n",
              "      <td>122.0</td>\n",
              "      <td>206.0</td>\n",
              "      <td>66.0</td>\n",
              "      <td>431.0</td>\n",
              "      <td>2432.0</td>\n",
              "      <td>337.0</td>\n",
              "      <td>65.0</td>\n",
              "      <td>57.0</td>\n",
              "      <td>332.0</td>\n",
              "      <td>237.0</td>\n",
              "      <td>335.0</td>\n",
              "    </tr>\n",
              "    <tr>\n",
              "      <th>4</th>\n",
              "      <td>78.50</td>\n",
              "      <td>161.75</td>\n",
              "      <td>311.25</td>\n",
              "      <td>228.75</td>\n",
              "      <td>162.75</td>\n",
              "      <td>295.25</td>\n",
              "      <td>214.50</td>\n",
              "      <td>157.00</td>\n",
              "      <td>285.25</td>\n",
              "      <td>120.75</td>\n",
              "      <td>153.50</td>\n",
              "      <td>285.00</td>\n",
              "      <td>41.00</td>\n",
              "      <td>151.00</td>\n",
              "      <td>280.75</td>\n",
              "      <td>85.25</td>\n",
              "      <td>149.25</td>\n",
              "      <td>283.00</td>\n",
              "      <td>96.00</td>\n",
              "      <td>148.25</td>\n",
              "      <td>291.25</td>\n",
              "      <td>V7PZBCG</td>\n",
              "      <td>124.0</td>\n",
              "      <td>167.0</td>\n",
              "      <td>116.0</td>\n",
              "      <td>439.0</td>\n",
              "      <td>566.0</td>\n",
              "      <td>302.0</td>\n",
              "      <td>53.0</td>\n",
              "      <td>56.0</td>\n",
              "      <td>326.0</td>\n",
              "      <td>235.0</td>\n",
              "      <td>187.0</td>\n",
              "    </tr>\n",
              "  </tbody>\n",
              "</table>\n",
              "</div>"
            ],
            "text/plain": [
              "   ADDITIONAL_PER_4_YEARS_mean_2_pr  ...  soil_soc_5-15cm_mean\n",
              "0                             41.25  ...                 330.0\n",
              "1                             39.75  ...                 280.0\n",
              "2                             40.25  ...                 284.0\n",
              "3                             40.00  ...                 335.0\n",
              "4                             78.50  ...                 187.0\n",
              "\n",
              "[5 rows x 33 columns]"
            ]
          },
          "metadata": {
            "tags": []
          },
          "execution_count": 128
        }
      ]
    },
    {
      "cell_type": "code",
      "metadata": {
        "id": "fTWLyM_BDET0"
      },
      "source": [
        "# working only with poor and good quality\r\n",
        "train = train[train['Quality'].isin([1,3])]  # only quality 1 - 3 "
      ],
      "execution_count": 129,
      "outputs": []
    },
    {
      "cell_type": "code",
      "metadata": {
        "colab": {
          "base_uri": "https://localhost:8080/"
        },
        "id": "yWWn-DARDQM0",
        "outputId": "605cbd90-fde2-4a82-9c55-3f27a9a91dfe"
      },
      "source": [
        "band_names = [l.strip() for l in open('bandnames.txt', 'r').readlines()]\r\n",
        "print(band_names)"
      ],
      "execution_count": 118,
      "outputs": [
        {
          "output_type": "stream",
          "text": [
            "['0_S2_B1', '0_S2_B2', '0_S2_B3', '0_S2_B4', '0_S2_B5', '0_S2_B6', '0_S2_B7', '0_S2_B8', '0_S2_B8A', '0_S2_B9', '0_S2_B10', '0_S2_B11', '0_S2_B12', '0_S2_QA10', '0_S2_QA20', '0_S2_QA60', '0_CLIM_aet', '0_CLIM_def', '0_CLIM_pdsi', '0_CLIM_pet', '0_CLIM_pr', '0_CLIM_ro', '0_CLIM_soil', '0_CLIM_srad', '0_CLIM_swe', '0_CLIM_tmmn', '0_CLIM_tmmx', '0_CLIM_vap', '0_CLIM_vpd', '0_CLIM_vs', '1_S2_B1', '1_S2_B2', '1_S2_B3', '1_S2_B4', '1_S2_B5', '1_S2_B6', '1_S2_B7', '1_S2_B8', '1_S2_B8A', '1_S2_B9', '1_S2_B10', '1_S2_B11', '1_S2_B12', '1_S2_QA10', '1_S2_QA20', '1_S2_QA60', '1_CLIM_aet', '1_CLIM_def', '1_CLIM_pdsi', '1_CLIM_pet', '1_CLIM_pr', '1_CLIM_ro', '1_CLIM_soil', '1_CLIM_srad', '1_CLIM_swe', '1_CLIM_tmmn', '1_CLIM_tmmx', '1_CLIM_vap', '1_CLIM_vpd', '1_CLIM_vs', '2_S2_B1', '2_S2_B2', '2_S2_B3', '2_S2_B4', '2_S2_B5', '2_S2_B6', '2_S2_B7', '2_S2_B8', '2_S2_B8A', '2_S2_B9', '2_S2_B10', '2_S2_B11', '2_S2_B12', '2_S2_QA10', '2_S2_QA20', '2_S2_QA60', '2_CLIM_aet', '2_CLIM_def', '2_CLIM_pdsi', '2_CLIM_pet', '2_CLIM_pr', '2_CLIM_ro', '2_CLIM_soil', '2_CLIM_srad', '2_CLIM_swe', '2_CLIM_tmmn', '2_CLIM_tmmx', '2_CLIM_vap', '2_CLIM_vpd', '2_CLIM_vs', '3_S2_B1', '3_S2_B2', '3_S2_B3', '3_S2_B4', '3_S2_B5', '3_S2_B6', '3_S2_B7', '3_S2_B8', '3_S2_B8A', '3_S2_B9', '3_S2_B10', '3_S2_B11', '3_S2_B12', '3_S2_QA10', '3_S2_QA20', '3_S2_QA60', '3_CLIM_aet', '3_CLIM_def', '3_CLIM_pdsi', '3_CLIM_pet', '3_CLIM_pr', '3_CLIM_ro', '3_CLIM_soil', '3_CLIM_srad', '3_CLIM_swe', '3_CLIM_tmmn', '3_CLIM_tmmx', '3_CLIM_vap', '3_CLIM_vpd', '3_CLIM_vs', '4_S2_B1', '4_S2_B2', '4_S2_B3', '4_S2_B4', '4_S2_B5', '4_S2_B6', '4_S2_B7', '4_S2_B8', '4_S2_B8A', '4_S2_B9', '4_S2_B10', '4_S2_B11', '4_S2_B12', '4_S2_QA10', '4_S2_QA20', '4_S2_QA60', '4_CLIM_aet', '4_CLIM_def', '4_CLIM_pdsi', '4_CLIM_pet', '4_CLIM_pr', '4_CLIM_ro', '4_CLIM_soil', '4_CLIM_srad', '4_CLIM_swe', '4_CLIM_tmmn', '4_CLIM_tmmx', '4_CLIM_vap', '4_CLIM_vpd', '4_CLIM_vs', '5_S2_B1', '5_S2_B2', '5_S2_B3', '5_S2_B4', '5_S2_B5', '5_S2_B6', '5_S2_B7', '5_S2_B8', '5_S2_B8A', '5_S2_B9', '5_S2_B10', '5_S2_B11', '5_S2_B12', '5_S2_QA10', '5_S2_QA20', '5_S2_QA60', '5_CLIM_aet', '5_CLIM_def', '5_CLIM_pdsi', '5_CLIM_pet', '5_CLIM_pr', '5_CLIM_ro', '5_CLIM_soil', '5_CLIM_srad', '5_CLIM_swe', '5_CLIM_tmmn', '5_CLIM_tmmx', '5_CLIM_vap', '5_CLIM_vpd', '5_CLIM_vs', '6_S2_B1', '6_S2_B2', '6_S2_B3', '6_S2_B4', '6_S2_B5', '6_S2_B6', '6_S2_B7', '6_S2_B8', '6_S2_B8A', '6_S2_B9', '6_S2_B10', '6_S2_B11', '6_S2_B12', '6_S2_QA10', '6_S2_QA20', '6_S2_QA60', '6_CLIM_aet', '6_CLIM_def', '6_CLIM_pdsi', '6_CLIM_pet', '6_CLIM_pr', '6_CLIM_ro', '6_CLIM_soil', '6_CLIM_srad', '6_CLIM_swe', '6_CLIM_tmmn', '6_CLIM_tmmx', '6_CLIM_vap', '6_CLIM_vpd', '6_CLIM_vs', '7_S2_B1', '7_S2_B2', '7_S2_B3', '7_S2_B4', '7_S2_B5', '7_S2_B6', '7_S2_B7', '7_S2_B8', '7_S2_B8A', '7_S2_B9', '7_S2_B10', '7_S2_B11', '7_S2_B12', '7_S2_QA10', '7_S2_QA20', '7_S2_QA60', '7_CLIM_aet', '7_CLIM_def', '7_CLIM_pdsi', '7_CLIM_pet', '7_CLIM_pr', '7_CLIM_ro', '7_CLIM_soil', '7_CLIM_srad', '7_CLIM_swe', '7_CLIM_tmmn', '7_CLIM_tmmx', '7_CLIM_vap', '7_CLIM_vpd', '7_CLIM_vs', '8_S2_B1', '8_S2_B2', '8_S2_B3', '8_S2_B4', '8_S2_B5', '8_S2_B6', '8_S2_B7', '8_S2_B8', '8_S2_B8A', '8_S2_B9', '8_S2_B10', '8_S2_B11', '8_S2_B12', '8_S2_QA10', '8_S2_QA20', '8_S2_QA60', '8_CLIM_aet', '8_CLIM_def', '8_CLIM_pdsi', '8_CLIM_pet', '8_CLIM_pr', '8_CLIM_ro', '8_CLIM_soil', '8_CLIM_srad', '8_CLIM_swe', '8_CLIM_tmmn', '8_CLIM_tmmx', '8_CLIM_vap', '8_CLIM_vpd', '8_CLIM_vs', '9_S2_B1', '9_S2_B2', '9_S2_B3', '9_S2_B4', '9_S2_B5', '9_S2_B6', '9_S2_B7', '9_S2_B8', '9_S2_B8A', '9_S2_B9', '9_S2_B10', '9_S2_B11', '9_S2_B12', '9_S2_QA10', '9_S2_QA20', '9_S2_QA60', '9_CLIM_aet', '9_CLIM_def', '9_CLIM_pdsi', '9_CLIM_pet', '9_CLIM_pr', '9_CLIM_ro', '9_CLIM_soil', '9_CLIM_srad', '9_CLIM_swe', '9_CLIM_tmmn', '9_CLIM_tmmx', '9_CLIM_vap', '9_CLIM_vpd', '9_CLIM_vs', '10_S2_B1', '10_S2_B2', '10_S2_B3', '10_S2_B4', '10_S2_B5', '10_S2_B6', '10_S2_B7', '10_S2_B8', '10_S2_B8A', '10_S2_B9', '10_S2_B10', '10_S2_B11', '10_S2_B12', '10_S2_QA10', '10_S2_QA20', '10_S2_QA60', '10_CLIM_aet', '10_CLIM_def', '10_CLIM_pdsi', '10_CLIM_pet', '10_CLIM_pr', '10_CLIM_ro', '10_CLIM_soil', '10_CLIM_srad', '10_CLIM_swe', '10_CLIM_tmmn', '10_CLIM_tmmx', '10_CLIM_vap', '10_CLIM_vpd', '10_CLIM_vs', '11_S2_B1', '11_S2_B2', '11_S2_B3', '11_S2_B4', '11_S2_B5', '11_S2_B6', '11_S2_B7', '11_S2_B8', '11_S2_B8A', '11_S2_B9', '11_S2_B10', '11_S2_B11', '11_S2_B12', '11_S2_QA10', '11_S2_QA20', '11_S2_QA60', '11_CLIM_aet', '11_CLIM_def', '11_CLIM_pdsi', '11_CLIM_pet', '11_CLIM_pr', '11_CLIM_ro', '11_CLIM_soil', '11_CLIM_srad', '11_CLIM_swe', '11_CLIM_tmmn', '11_CLIM_tmmx', '11_CLIM_vap', '11_CLIM_vpd', '11_CLIM_vs']\n"
          ],
          "name": "stdout"
        }
      ]
    },
    {
      "cell_type": "markdown",
      "metadata": {
        "id": "vnEz73ZoF5FC"
      },
      "source": [
        "## 1 - **Vegetation Indexs**"
      ]
    },
    {
      "cell_type": "code",
      "metadata": {
        "colab": {
          "base_uri": "https://localhost:8080/",
          "height": 132,
          "referenced_widgets": [
            "ab15b1186eb0455992f3f458d28c268d",
            "8a323c6b454e4f96bb3a7ab2839a2849",
            "d92d38f6760b4225a961c9a655debbe2",
            "8aac447fd18d44949045260b5f7353ed",
            "5963ad0d18fd481d85e21f182d00976a",
            "4079a5749f9347ad91caf885cc27bcaf",
            "e2cff515a77640c4bf0943b773373b30",
            "5b23134de03e44a281d267740f9559e5",
            "c769d8c808f54e52baea844527bcf28c",
            "30bef232055f4c7ca0920c9d01afc2e5",
            "2ccfb1d98c4743559279645ad75f64c1",
            "a2be0d0b1d364cce8ff70122795ba7de",
            "98caf955c09d4508a14c078d1994b4d2",
            "210ece0859b949e0a589ce9597aa2262",
            "d78a4a4516e241118a348b6be7c38b74",
            "3e48c47c2e5c4ea78a34b21f29a7970f"
          ]
        },
        "id": "YNIB6zMQDUuL",
        "outputId": "92ea1c90-bbbb-469c-8ee5-eb08f71d52a8"
      },
      "source": [
        "                                                      ###  Get NDVI Data    ###\r\n",
        "\r\n",
        "train_NDVI = pd.DataFrame([get_NDVI_data(train['Field_ID'].values[fid_idx]) for fid_idx in tqdm(range(len(train['Field_ID'].values))) ])\r\n",
        "train_NDVI['Field_ID'] = train['Field_ID'].values\r\n",
        "\r\n",
        "print()\r\n",
        "\r\n",
        "test_NDVI = pd.DataFrame([get_NDVI_data(ss['Field_ID'].values[fid_idx], folder='image_arrays_test') for fid_idx in tqdm(range(len(ss['Field_ID'].values)))])\r\n",
        "test_NDVI['Field_ID'] = ss['Field_ID'].values"
      ],
      "execution_count": 93,
      "outputs": [
        {
          "output_type": "display_data",
          "data": {
            "application/vnd.jupyter.widget-view+json": {
              "model_id": "ab15b1186eb0455992f3f458d28c268d",
              "version_minor": 0,
              "version_major": 2
            },
            "text/plain": [
              "HBox(children=(FloatProgress(value=0.0, max=1746.0), HTML(value='')))"
            ]
          },
          "metadata": {
            "tags": []
          }
        },
        {
          "output_type": "stream",
          "text": [
            "\n",
            "\n"
          ],
          "name": "stdout"
        },
        {
          "output_type": "display_data",
          "data": {
            "application/vnd.jupyter.widget-view+json": {
              "model_id": "c769d8c808f54e52baea844527bcf28c",
              "version_minor": 0,
              "version_major": 2
            },
            "text/plain": [
              "HBox(children=(FloatProgress(value=0.0, max=1055.0), HTML(value='')))"
            ]
          },
          "metadata": {
            "tags": []
          }
        },
        {
          "output_type": "stream",
          "text": [
            "\n"
          ],
          "name": "stdout"
        }
      ]
    },
    {
      "cell_type": "code",
      "metadata": {
        "colab": {
          "base_uri": "https://localhost:8080/",
          "height": 224
        },
        "id": "4wiCS4m4fltC",
        "outputId": "97da9867-82f5-44b7-ef67-1fdeb7bbeaa8"
      },
      "source": [
        "train_NDVI.head()"
      ],
      "execution_count": 94,
      "outputs": [
        {
          "output_type": "execute_result",
          "data": {
            "text/html": [
              "<div>\n",
              "<style scoped>\n",
              "    .dataframe tbody tr th:only-of-type {\n",
              "        vertical-align: middle;\n",
              "    }\n",
              "\n",
              "    .dataframe tbody tr th {\n",
              "        vertical-align: top;\n",
              "    }\n",
              "\n",
              "    .dataframe thead th {\n",
              "        text-align: right;\n",
              "    }\n",
              "</style>\n",
              "<table border=\"1\" class=\"dataframe\">\n",
              "  <thead>\n",
              "    <tr style=\"text-align: right;\">\n",
              "      <th></th>\n",
              "      <th>NDVI_Median_1</th>\n",
              "      <th>NDVI_Median_2</th>\n",
              "      <th>NDVI_Median_11</th>\n",
              "      <th>NDVI_Median_0</th>\n",
              "      <th>NDVI_Median_3</th>\n",
              "      <th>NDVI_Median_4</th>\n",
              "      <th>NDVI_Median_5</th>\n",
              "      <th>NDVI_Median_6</th>\n",
              "      <th>NDVI_Median_7</th>\n",
              "      <th>NDVI_Median_8</th>\n",
              "      <th>NDVI_Median_9</th>\n",
              "      <th>NDVI_Median_10</th>\n",
              "      <th>NDVI_Min_0</th>\n",
              "      <th>NDVI_Max_0</th>\n",
              "      <th>NDVI_Min_3</th>\n",
              "      <th>NDVI_Max_3</th>\n",
              "      <th>NDVI_Min_4</th>\n",
              "      <th>NDVI_Max_4</th>\n",
              "      <th>NDVI_Min_5</th>\n",
              "      <th>NDVI_Max_5</th>\n",
              "      <th>NDVI_Min_6</th>\n",
              "      <th>NDVI_Max_6</th>\n",
              "      <th>NDVI_Min_7</th>\n",
              "      <th>NDVI_Max_7</th>\n",
              "      <th>NDVI_Min_8</th>\n",
              "      <th>NDVI_Max_8</th>\n",
              "      <th>NDVI_Min_9</th>\n",
              "      <th>NDVI_Max_9</th>\n",
              "      <th>NDVI_Min_10</th>\n",
              "      <th>NDVI_Max_10</th>\n",
              "      <th>Field_ID</th>\n",
              "    </tr>\n",
              "  </thead>\n",
              "  <tbody>\n",
              "    <tr>\n",
              "      <th>0</th>\n",
              "      <td>0.398194</td>\n",
              "      <td>0.342726</td>\n",
              "      <td>0.588992</td>\n",
              "      <td>0.514644</td>\n",
              "      <td>0.340072</td>\n",
              "      <td>0.458077</td>\n",
              "      <td>0.031556</td>\n",
              "      <td>0.589358</td>\n",
              "      <td>0.399567</td>\n",
              "      <td>0.673010</td>\n",
              "      <td>0.675813</td>\n",
              "      <td>0.674788</td>\n",
              "      <td>0.195285</td>\n",
              "      <td>0.804681</td>\n",
              "      <td>0.128743</td>\n",
              "      <td>0.730036</td>\n",
              "      <td>0.148721</td>\n",
              "      <td>0.758441</td>\n",
              "      <td>-0.063128</td>\n",
              "      <td>0.091383</td>\n",
              "      <td>0.226757</td>\n",
              "      <td>0.788367</td>\n",
              "      <td>0.114936</td>\n",
              "      <td>0.761976</td>\n",
              "      <td>0.189881</td>\n",
              "      <td>0.808649</td>\n",
              "      <td>0.331603</td>\n",
              "      <td>0.823542</td>\n",
              "      <td>0.343478</td>\n",
              "      <td>0.823981</td>\n",
              "      <td>MH2O0YH</td>\n",
              "    </tr>\n",
              "    <tr>\n",
              "      <th>1</th>\n",
              "      <td>0.297969</td>\n",
              "      <td>0.250628</td>\n",
              "      <td>0.262127</td>\n",
              "      <td>0.348010</td>\n",
              "      <td>0.237860</td>\n",
              "      <td>0.285620</td>\n",
              "      <td>0.025184</td>\n",
              "      <td>0.757973</td>\n",
              "      <td>0.664011</td>\n",
              "      <td>0.589613</td>\n",
              "      <td>0.565794</td>\n",
              "      <td>0.568910</td>\n",
              "      <td>0.119593</td>\n",
              "      <td>0.694646</td>\n",
              "      <td>0.108630</td>\n",
              "      <td>0.562234</td>\n",
              "      <td>0.131764</td>\n",
              "      <td>0.646889</td>\n",
              "      <td>-0.025408</td>\n",
              "      <td>0.205075</td>\n",
              "      <td>0.292278</td>\n",
              "      <td>0.824188</td>\n",
              "      <td>-0.006041</td>\n",
              "      <td>0.794096</td>\n",
              "      <td>0.175996</td>\n",
              "      <td>0.785395</td>\n",
              "      <td>0.271372</td>\n",
              "      <td>0.809500</td>\n",
              "      <td>0.200753</td>\n",
              "      <td>0.794067</td>\n",
              "      <td>35AFSDD</td>\n",
              "    </tr>\n",
              "    <tr>\n",
              "      <th>2</th>\n",
              "      <td>0.228688</td>\n",
              "      <td>0.256365</td>\n",
              "      <td>0.608094</td>\n",
              "      <td>0.356450</td>\n",
              "      <td>0.325984</td>\n",
              "      <td>0.679453</td>\n",
              "      <td>0.681313</td>\n",
              "      <td>0.645152</td>\n",
              "      <td>0.435045</td>\n",
              "      <td>0.503568</td>\n",
              "      <td>0.553453</td>\n",
              "      <td>0.298985</td>\n",
              "      <td>0.146573</td>\n",
              "      <td>0.639762</td>\n",
              "      <td>0.082912</td>\n",
              "      <td>0.678540</td>\n",
              "      <td>0.272483</td>\n",
              "      <td>0.823364</td>\n",
              "      <td>0.278783</td>\n",
              "      <td>0.800317</td>\n",
              "      <td>0.316924</td>\n",
              "      <td>0.759837</td>\n",
              "      <td>0.171462</td>\n",
              "      <td>0.713958</td>\n",
              "      <td>0.240765</td>\n",
              "      <td>0.749432</td>\n",
              "      <td>0.256592</td>\n",
              "      <td>0.787282</td>\n",
              "      <td>0.070945</td>\n",
              "      <td>0.608659</td>\n",
              "      <td>003GQB5</td>\n",
              "    </tr>\n",
              "    <tr>\n",
              "      <th>3</th>\n",
              "      <td>0.317039</td>\n",
              "      <td>0.373182</td>\n",
              "      <td>0.496388</td>\n",
              "      <td>0.425717</td>\n",
              "      <td>0.400500</td>\n",
              "      <td>0.669710</td>\n",
              "      <td>0.665569</td>\n",
              "      <td>0.632975</td>\n",
              "      <td>0.545375</td>\n",
              "      <td>0.586897</td>\n",
              "      <td>0.588719</td>\n",
              "      <td>0.339759</td>\n",
              "      <td>0.033939</td>\n",
              "      <td>0.720472</td>\n",
              "      <td>0.027373</td>\n",
              "      <td>0.689815</td>\n",
              "      <td>0.046584</td>\n",
              "      <td>0.830675</td>\n",
              "      <td>0.114997</td>\n",
              "      <td>0.791233</td>\n",
              "      <td>0.079291</td>\n",
              "      <td>0.743554</td>\n",
              "      <td>0.047642</td>\n",
              "      <td>0.749370</td>\n",
              "      <td>0.033887</td>\n",
              "      <td>0.787587</td>\n",
              "      <td>0.067895</td>\n",
              "      <td>0.799002</td>\n",
              "      <td>0.061938</td>\n",
              "      <td>0.523440</td>\n",
              "      <td>A6H2141</td>\n",
              "    </tr>\n",
              "    <tr>\n",
              "      <th>4</th>\n",
              "      <td>0.321937</td>\n",
              "      <td>0.308539</td>\n",
              "      <td>0.212645</td>\n",
              "      <td>0.382446</td>\n",
              "      <td>0.323252</td>\n",
              "      <td>0.655968</td>\n",
              "      <td>0.498312</td>\n",
              "      <td>0.637804</td>\n",
              "      <td>0.460905</td>\n",
              "      <td>0.498201</td>\n",
              "      <td>0.533890</td>\n",
              "      <td>0.548839</td>\n",
              "      <td>0.182600</td>\n",
              "      <td>0.604545</td>\n",
              "      <td>0.116511</td>\n",
              "      <td>0.650043</td>\n",
              "      <td>0.290998</td>\n",
              "      <td>0.833163</td>\n",
              "      <td>0.160805</td>\n",
              "      <td>0.749886</td>\n",
              "      <td>0.247578</td>\n",
              "      <td>0.752027</td>\n",
              "      <td>0.203966</td>\n",
              "      <td>0.697697</td>\n",
              "      <td>0.219638</td>\n",
              "      <td>0.753298</td>\n",
              "      <td>0.229847</td>\n",
              "      <td>0.742220</td>\n",
              "      <td>0.258270</td>\n",
              "      <td>0.711571</td>\n",
              "      <td>MHDYMRX</td>\n",
              "    </tr>\n",
              "  </tbody>\n",
              "</table>\n",
              "</div>"
            ],
            "text/plain": [
              "   NDVI_Median_1  NDVI_Median_2  ...  NDVI_Max_10  Field_ID\n",
              "0       0.398194       0.342726  ...     0.823981   MH2O0YH\n",
              "1       0.297969       0.250628  ...     0.794067   35AFSDD\n",
              "2       0.228688       0.256365  ...     0.608659   003GQB5\n",
              "3       0.317039       0.373182  ...     0.523440   A6H2141\n",
              "4       0.321937       0.308539  ...     0.711571   MHDYMRX\n",
              "\n",
              "[5 rows x 31 columns]"
            ]
          },
          "metadata": {
            "tags": []
          },
          "execution_count": 94
        }
      ]
    },
    {
      "cell_type": "code",
      "metadata": {
        "colab": {
          "base_uri": "https://localhost:8080/",
          "height": 132,
          "referenced_widgets": [
            "15325d86643e497da05541d70f480e27",
            "b55c002194b3480ba192b9d4c185d8c7",
            "57cb306c8d3d486db923883063feff43",
            "221ff6d47c214f01857f66aa80f9eaed",
            "115fabbc82f64fb8b8a22781d4ead2a8",
            "6228ddbe83cc4f9c90efa5e747ad9cae",
            "7aa39c2992c746718004608ccab310d1",
            "5131eca0d49d47769875aed83b95ae08",
            "557b0ed163d44e9d994a2b6c89e8c353",
            "e37343a4417844ac862e8c8de1ebbea4",
            "af59850b3cc6415982ee94eea01b080e",
            "273a7f41e0314168ac2f8ad2bd934e03",
            "8b11e9279dee48c9b6104e30f63aac7a",
            "1e4b1ffa08394ac1baef618a45ebe252",
            "49519a42a17c43e4844295f7b237e872",
            "223f03610f2942a8a112052390086998"
          ]
        },
        "id": "MjXyi97yEX_G",
        "outputId": "709ffff1-9e16-4710-f4d6-e5c49edad2f2"
      },
      "source": [
        "                                                      ###  Get EVI Data    ###\r\n",
        "\r\n",
        "train_EVI = pd.DataFrame([get_EVI_data(train['Field_ID'].values[fid_idx]) for fid_idx in tqdm(range(len(train['Field_ID'].values))) ])\r\n",
        "train_EVI['Field_ID'] = train['Field_ID'].values\r\n",
        "\r\n",
        "print()\r\n",
        "\r\n",
        "test_EVI = pd.DataFrame([get_EVI_data(ss['Field_ID'].values[fid_idx], folder='image_arrays_test') for fid_idx in tqdm(range(len(ss['Field_ID'].values)))])\r\n",
        "test_EVI['Field_ID'] = ss['Field_ID'].values"
      ],
      "execution_count": 95,
      "outputs": [
        {
          "output_type": "display_data",
          "data": {
            "application/vnd.jupyter.widget-view+json": {
              "model_id": "15325d86643e497da05541d70f480e27",
              "version_minor": 0,
              "version_major": 2
            },
            "text/plain": [
              "HBox(children=(FloatProgress(value=0.0, max=1746.0), HTML(value='')))"
            ]
          },
          "metadata": {
            "tags": []
          }
        },
        {
          "output_type": "stream",
          "text": [
            "\n",
            "\n"
          ],
          "name": "stdout"
        },
        {
          "output_type": "display_data",
          "data": {
            "application/vnd.jupyter.widget-view+json": {
              "model_id": "557b0ed163d44e9d994a2b6c89e8c353",
              "version_minor": 0,
              "version_major": 2
            },
            "text/plain": [
              "HBox(children=(FloatProgress(value=0.0, max=1055.0), HTML(value='')))"
            ]
          },
          "metadata": {
            "tags": []
          }
        },
        {
          "output_type": "stream",
          "text": [
            "\n"
          ],
          "name": "stdout"
        }
      ]
    },
    {
      "cell_type": "code",
      "metadata": {
        "colab": {
          "base_uri": "https://localhost:8080/",
          "height": 224
        },
        "id": "GIw-eVBLKyzE",
        "outputId": "97ea0094-a587-48bd-fd04-2e2088bf09a2"
      },
      "source": [
        "train_EVI.head()"
      ],
      "execution_count": 96,
      "outputs": [
        {
          "output_type": "execute_result",
          "data": {
            "text/html": [
              "<div>\n",
              "<style scoped>\n",
              "    .dataframe tbody tr th:only-of-type {\n",
              "        vertical-align: middle;\n",
              "    }\n",
              "\n",
              "    .dataframe tbody tr th {\n",
              "        vertical-align: top;\n",
              "    }\n",
              "\n",
              "    .dataframe thead th {\n",
              "        text-align: right;\n",
              "    }\n",
              "</style>\n",
              "<table border=\"1\" class=\"dataframe\">\n",
              "  <thead>\n",
              "    <tr style=\"text-align: right;\">\n",
              "      <th></th>\n",
              "      <th>EVI_Median_1</th>\n",
              "      <th>EVI_Median_2</th>\n",
              "      <th>EVI_Median_11</th>\n",
              "      <th>EVI_Median_0</th>\n",
              "      <th>EVI_Median_3</th>\n",
              "      <th>EVI_Median_4</th>\n",
              "      <th>EVI_Median_5</th>\n",
              "      <th>EVI_Median_6</th>\n",
              "      <th>EVI_Median_7</th>\n",
              "      <th>EVI_Median_8</th>\n",
              "      <th>EVI_Median_9</th>\n",
              "      <th>EVI_Median_10</th>\n",
              "      <th>EVI_Max_2</th>\n",
              "      <th>EVI_Max_3</th>\n",
              "      <th>EVI_Max_4</th>\n",
              "      <th>EVI_Max_5</th>\n",
              "      <th>EVI_Max_6</th>\n",
              "      <th>EVI_Max_7</th>\n",
              "      <th>EVI_Max_8</th>\n",
              "      <th>EVI_Max_9</th>\n",
              "      <th>EVI_Max_10</th>\n",
              "      <th>EVI_Max_11</th>\n",
              "      <th>Field_ID</th>\n",
              "    </tr>\n",
              "  </thead>\n",
              "  <tbody>\n",
              "    <tr>\n",
              "      <th>0</th>\n",
              "      <td>-0.014700</td>\n",
              "      <td>-0.025601</td>\n",
              "      <td>0.112969</td>\n",
              "      <td>0.011392</td>\n",
              "      <td>-0.022997</td>\n",
              "      <td>0.011128</td>\n",
              "      <td>-0.073845</td>\n",
              "      <td>0.157672</td>\n",
              "      <td>0.051144</td>\n",
              "      <td>0.027857</td>\n",
              "      <td>0.026926</td>\n",
              "      <td>0.035279</td>\n",
              "      <td>0.063312</td>\n",
              "      <td>0.072925</td>\n",
              "      <td>0.091708</td>\n",
              "      <td>0.336533</td>\n",
              "      <td>0.661550</td>\n",
              "      <td>0.540337</td>\n",
              "      <td>0.091768</td>\n",
              "      <td>0.109226</td>\n",
              "      <td>0.140126</td>\n",
              "      <td>1.454623</td>\n",
              "      <td>MH2O0YH</td>\n",
              "    </tr>\n",
              "    <tr>\n",
              "      <th>1</th>\n",
              "      <td>-0.059792</td>\n",
              "      <td>-0.086052</td>\n",
              "      <td>0.018591</td>\n",
              "      <td>-0.036128</td>\n",
              "      <td>-0.070615</td>\n",
              "      <td>-0.044259</td>\n",
              "      <td>-0.087945</td>\n",
              "      <td>0.034176</td>\n",
              "      <td>0.037643</td>\n",
              "      <td>0.020576</td>\n",
              "      <td>0.015035</td>\n",
              "      <td>0.017818</td>\n",
              "      <td>0.044138</td>\n",
              "      <td>0.058378</td>\n",
              "      <td>0.094889</td>\n",
              "      <td>0.568373</td>\n",
              "      <td>0.090519</td>\n",
              "      <td>0.080588</td>\n",
              "      <td>0.089441</td>\n",
              "      <td>0.067995</td>\n",
              "      <td>0.064794</td>\n",
              "      <td>0.316553</td>\n",
              "      <td>35AFSDD</td>\n",
              "    </tr>\n",
              "    <tr>\n",
              "      <th>2</th>\n",
              "      <td>-0.095323</td>\n",
              "      <td>-0.087615</td>\n",
              "      <td>0.036738</td>\n",
              "      <td>-0.023970</td>\n",
              "      <td>-0.045102</td>\n",
              "      <td>0.036156</td>\n",
              "      <td>0.036662</td>\n",
              "      <td>0.037917</td>\n",
              "      <td>0.010020</td>\n",
              "      <td>0.004706</td>\n",
              "      <td>0.007825</td>\n",
              "      <td>0.047391</td>\n",
              "      <td>0.051878</td>\n",
              "      <td>0.064216</td>\n",
              "      <td>0.079021</td>\n",
              "      <td>0.068591</td>\n",
              "      <td>0.097185</td>\n",
              "      <td>0.166929</td>\n",
              "      <td>0.051491</td>\n",
              "      <td>0.119019</td>\n",
              "      <td>0.292084</td>\n",
              "      <td>0.752592</td>\n",
              "      <td>003GQB5</td>\n",
              "    </tr>\n",
              "    <tr>\n",
              "      <th>3</th>\n",
              "      <td>-0.032616</td>\n",
              "      <td>-0.021169</td>\n",
              "      <td>0.063584</td>\n",
              "      <td>0.007674</td>\n",
              "      <td>-0.006093</td>\n",
              "      <td>0.037565</td>\n",
              "      <td>0.038745</td>\n",
              "      <td>0.040024</td>\n",
              "      <td>0.030199</td>\n",
              "      <td>0.024119</td>\n",
              "      <td>0.022476</td>\n",
              "      <td>0.183233</td>\n",
              "      <td>0.169437</td>\n",
              "      <td>0.782186</td>\n",
              "      <td>0.921471</td>\n",
              "      <td>0.220758</td>\n",
              "      <td>0.214402</td>\n",
              "      <td>0.337069</td>\n",
              "      <td>0.256648</td>\n",
              "      <td>0.219630</td>\n",
              "      <td>4.056795</td>\n",
              "      <td>11.256158</td>\n",
              "      <td>A6H2141</td>\n",
              "    </tr>\n",
              "    <tr>\n",
              "      <th>4</th>\n",
              "      <td>-0.041784</td>\n",
              "      <td>-0.057120</td>\n",
              "      <td>0.034780</td>\n",
              "      <td>-0.010871</td>\n",
              "      <td>-0.035096</td>\n",
              "      <td>0.035926</td>\n",
              "      <td>0.036115</td>\n",
              "      <td>0.034557</td>\n",
              "      <td>0.019048</td>\n",
              "      <td>0.011620</td>\n",
              "      <td>0.010115</td>\n",
              "      <td>0.032340</td>\n",
              "      <td>0.042045</td>\n",
              "      <td>0.083985</td>\n",
              "      <td>0.093456</td>\n",
              "      <td>0.226337</td>\n",
              "      <td>0.088243</td>\n",
              "      <td>0.067544</td>\n",
              "      <td>0.080760</td>\n",
              "      <td>0.057059</td>\n",
              "      <td>0.072753</td>\n",
              "      <td>0.130955</td>\n",
              "      <td>MHDYMRX</td>\n",
              "    </tr>\n",
              "  </tbody>\n",
              "</table>\n",
              "</div>"
            ],
            "text/plain": [
              "   EVI_Median_1  EVI_Median_2  EVI_Median_11  ...  EVI_Max_10  EVI_Max_11  Field_ID\n",
              "0     -0.014700     -0.025601       0.112969  ...    0.140126    1.454623   MH2O0YH\n",
              "1     -0.059792     -0.086052       0.018591  ...    0.064794    0.316553   35AFSDD\n",
              "2     -0.095323     -0.087615       0.036738  ...    0.292084    0.752592   003GQB5\n",
              "3     -0.032616     -0.021169       0.063584  ...    4.056795   11.256158   A6H2141\n",
              "4     -0.041784     -0.057120       0.034780  ...    0.072753    0.130955   MHDYMRX\n",
              "\n",
              "[5 rows x 23 columns]"
            ]
          },
          "metadata": {
            "tags": []
          },
          "execution_count": 96
        }
      ]
    },
    {
      "cell_type": "code",
      "metadata": {
        "colab": {
          "base_uri": "https://localhost:8080/",
          "height": 132,
          "referenced_widgets": [
            "c6cdaf3a486f4f13984fd755ef0624be",
            "45df870729a44241a6c506bd255ceee1",
            "fda96eabc1914ccaae4722bc875059cd",
            "7b3add2e506d45a7b6301d770f5a62dd",
            "fc42883442f84f3ab8834303f243131a",
            "fdfd23e171f740268ffb9ef8db30e470",
            "14fb58231ab04a809d94a45849e85b81",
            "d655cc3a25d64fa2b2ccc34c95d6e39a",
            "0bdcf257edbf48e8a2172ee039171680",
            "51b565cea5924917a2878466dc989915",
            "5cc2870c6fb04a648670c6766855cb1a",
            "16696ccbe2ee4ba1977d4b928b84494f",
            "263923c2c17b4187b8fddbc403882c40",
            "9c1518cc820b4adb927f1d33bfd63d9a",
            "d08c86e3da674491a52ff62fca72aade",
            "044aae4bf08d472298487f9bd91b54b4"
          ]
        },
        "id": "CehqHcfREeeo",
        "outputId": "f6bf0332-a7f4-4e65-f404-f07dd2c35e68"
      },
      "source": [
        "                                                      ###  Get SAVI Data    ###\r\n",
        "\r\n",
        "train_SAVI = pd.DataFrame([get_SAVI_data(train['Field_ID'].values[fid_idx]) for fid_idx in tqdm(range(len(train['Field_ID'].values))) ])\r\n",
        "train_SAVI['Field_ID'] = train['Field_ID'].values\r\n",
        "\r\n",
        "print()\r\n",
        "\r\n",
        "test_SAVI = pd.DataFrame([get_SAVI_data(ss['Field_ID'].values[fid_idx], folder='image_arrays_test') for fid_idx in tqdm(range(len(ss['Field_ID'].values)))])\r\n",
        "test_SAVI['Field_ID'] = ss['Field_ID'].values"
      ],
      "execution_count": 97,
      "outputs": [
        {
          "output_type": "display_data",
          "data": {
            "application/vnd.jupyter.widget-view+json": {
              "model_id": "c6cdaf3a486f4f13984fd755ef0624be",
              "version_minor": 0,
              "version_major": 2
            },
            "text/plain": [
              "HBox(children=(FloatProgress(value=0.0, max=1746.0), HTML(value='')))"
            ]
          },
          "metadata": {
            "tags": []
          }
        },
        {
          "output_type": "stream",
          "text": [
            "\n",
            "\n"
          ],
          "name": "stdout"
        },
        {
          "output_type": "display_data",
          "data": {
            "application/vnd.jupyter.widget-view+json": {
              "model_id": "0bdcf257edbf48e8a2172ee039171680",
              "version_minor": 0,
              "version_major": 2
            },
            "text/plain": [
              "HBox(children=(FloatProgress(value=0.0, max=1055.0), HTML(value='')))"
            ]
          },
          "metadata": {
            "tags": []
          }
        },
        {
          "output_type": "stream",
          "text": [
            "\n"
          ],
          "name": "stdout"
        }
      ]
    },
    {
      "cell_type": "code",
      "metadata": {
        "colab": {
          "base_uri": "https://localhost:8080/",
          "height": 224
        },
        "id": "Sa8IWDqAK4U9",
        "outputId": "3bf75f78-a843-4bc6-a69e-57e309011409"
      },
      "source": [
        "train_SAVI.head()"
      ],
      "execution_count": 98,
      "outputs": [
        {
          "output_type": "execute_result",
          "data": {
            "text/html": [
              "<div>\n",
              "<style scoped>\n",
              "    .dataframe tbody tr th:only-of-type {\n",
              "        vertical-align: middle;\n",
              "    }\n",
              "\n",
              "    .dataframe tbody tr th {\n",
              "        vertical-align: top;\n",
              "    }\n",
              "\n",
              "    .dataframe thead th {\n",
              "        text-align: right;\n",
              "    }\n",
              "</style>\n",
              "<table border=\"1\" class=\"dataframe\">\n",
              "  <thead>\n",
              "    <tr style=\"text-align: right;\">\n",
              "      <th></th>\n",
              "      <th>SAVI_Max_0</th>\n",
              "      <th>SAVI_Max_1</th>\n",
              "      <th>SAVI_Max_2</th>\n",
              "      <th>SAVI_Max_3</th>\n",
              "      <th>SAVI_Max_4</th>\n",
              "      <th>SAVI_Max_5</th>\n",
              "      <th>SAVI_Max_6</th>\n",
              "      <th>SAVI_Max_7</th>\n",
              "      <th>SAVI_Max_8</th>\n",
              "      <th>SAVI_Max_9</th>\n",
              "      <th>SAVI_Max_10</th>\n",
              "      <th>SAVI_Max_11</th>\n",
              "      <th>Field_ID</th>\n",
              "    </tr>\n",
              "  </thead>\n",
              "  <tbody>\n",
              "    <tr>\n",
              "      <th>0</th>\n",
              "      <td>1.387860</td>\n",
              "      <td>1.340256</td>\n",
              "      <td>1.297018</td>\n",
              "      <td>1.259120</td>\n",
              "      <td>1.308096</td>\n",
              "      <td>0.157630</td>\n",
              "      <td>1.359721</td>\n",
              "      <td>1.314205</td>\n",
              "      <td>1.394693</td>\n",
              "      <td>1.420397</td>\n",
              "      <td>1.421159</td>\n",
              "      <td>1.376860</td>\n",
              "      <td>MH2O0YH</td>\n",
              "    </tr>\n",
              "    <tr>\n",
              "      <th>1</th>\n",
              "      <td>1.197964</td>\n",
              "      <td>1.126216</td>\n",
              "      <td>1.106721</td>\n",
              "      <td>0.969667</td>\n",
              "      <td>1.115649</td>\n",
              "      <td>0.353729</td>\n",
              "      <td>1.421529</td>\n",
              "      <td>1.369574</td>\n",
              "      <td>1.354562</td>\n",
              "      <td>1.396139</td>\n",
              "      <td>1.369522</td>\n",
              "      <td>1.386767</td>\n",
              "      <td>35AFSDD</td>\n",
              "    </tr>\n",
              "    <tr>\n",
              "      <th>2</th>\n",
              "      <td>1.103363</td>\n",
              "      <td>1.109366</td>\n",
              "      <td>1.122095</td>\n",
              "      <td>1.170232</td>\n",
              "      <td>1.420081</td>\n",
              "      <td>1.380349</td>\n",
              "      <td>1.310504</td>\n",
              "      <td>1.231322</td>\n",
              "      <td>1.292504</td>\n",
              "      <td>1.357840</td>\n",
              "      <td>1.049775</td>\n",
              "      <td>1.423170</td>\n",
              "      <td>003GQB5</td>\n",
              "    </tr>\n",
              "    <tr>\n",
              "      <th>3</th>\n",
              "      <td>1.242593</td>\n",
              "      <td>1.275071</td>\n",
              "      <td>1.209281</td>\n",
              "      <td>1.189709</td>\n",
              "      <td>1.432710</td>\n",
              "      <td>1.364676</td>\n",
              "      <td>1.282412</td>\n",
              "      <td>1.292426</td>\n",
              "      <td>1.358397</td>\n",
              "      <td>1.378101</td>\n",
              "      <td>0.902722</td>\n",
              "      <td>1.266213</td>\n",
              "      <td>A6H2141</td>\n",
              "    </tr>\n",
              "    <tr>\n",
              "      <th>4</th>\n",
              "      <td>1.042626</td>\n",
              "      <td>1.074357</td>\n",
              "      <td>1.022653</td>\n",
              "      <td>1.121090</td>\n",
              "      <td>1.436992</td>\n",
              "      <td>1.293338</td>\n",
              "      <td>1.297022</td>\n",
              "      <td>1.203318</td>\n",
              "      <td>1.299221</td>\n",
              "      <td>1.280114</td>\n",
              "      <td>1.227244</td>\n",
              "      <td>0.494353</td>\n",
              "      <td>MHDYMRX</td>\n",
              "    </tr>\n",
              "  </tbody>\n",
              "</table>\n",
              "</div>"
            ],
            "text/plain": [
              "   SAVI_Max_0  SAVI_Max_1  SAVI_Max_2  ...  SAVI_Max_10  SAVI_Max_11  Field_ID\n",
              "0    1.387860    1.340256    1.297018  ...     1.421159     1.376860   MH2O0YH\n",
              "1    1.197964    1.126216    1.106721  ...     1.369522     1.386767   35AFSDD\n",
              "2    1.103363    1.109366    1.122095  ...     1.049775     1.423170   003GQB5\n",
              "3    1.242593    1.275071    1.209281  ...     0.902722     1.266213   A6H2141\n",
              "4    1.042626    1.074357    1.022653  ...     1.227244     0.494353   MHDYMRX\n",
              "\n",
              "[5 rows x 13 columns]"
            ]
          },
          "metadata": {
            "tags": []
          },
          "execution_count": 98
        }
      ]
    },
    {
      "cell_type": "markdown",
      "metadata": {
        "id": "MbNDKaN7CP48"
      },
      "source": [
        "* **std_mean_per_month_vegetation**"
      ]
    },
    {
      "cell_type": "code",
      "metadata": {
        "id": "eau3PE6cB4VL"
      },
      "source": [
        "def std_mean_product_per_month_vegetation(data_NDVI,data_GRNDVI,data_SAVI) : \r\n",
        "  std_Mean_dataset = pd.DataFrame()\r\n",
        "  std_Mean_dataset['Field_ID'] = data_NDVI['Field_ID']\r\n",
        "  for month in [0,3,4,5,6,7,8,9,10]: \r\n",
        "      local = pd.DataFrame()\r\n",
        "      features = []\r\n",
        "      feature_NDVI = 'NDVI_Max_' + str(month)\r\n",
        "      local[feature_NDVI] = data_NDVI[feature_NDVI]\r\n",
        "      features.append(feature_NDVI)\r\n",
        "      feature_GRNDVI = 'GRNDVI_Max_' + str(month)\r\n",
        "      local[feature_GRNDVI] = data_GRNDVI[feature_GRNDVI]\r\n",
        "      features.append(feature_GRNDVI)\r\n",
        "      feature_SAVI = 'SAVI_Max_' + str(month)\r\n",
        "      local[feature_SAVI] = data_SAVI[feature_SAVI]\r\n",
        "      features.append(feature_SAVI)\r\n",
        "      \r\n",
        "      std_feature = local[features].std(axis=1)\r\n",
        "      std_Mean_dataset[f'STD_MAX_FOR_MONTH_{month}'] = std_feature\r\n",
        "\r\n",
        "      product_feature = local[features].prod(axis=1)\r\n",
        "      std_Mean_dataset[f'PRODUCT_MAX_FOR_MONTH_{month}'] = product_feature\r\n",
        "      \r\n",
        "      mean_feature = local[features].mean(axis=1)\r\n",
        "      std_Mean_dataset[f'MEAN_MAX_FOR_MONTH_{month}'] = mean_feature\r\n",
        "\r\n",
        "  return std_Mean_dataset"
      ],
      "execution_count": 99,
      "outputs": []
    },
    {
      "cell_type": "code",
      "metadata": {
        "colab": {
          "base_uri": "https://localhost:8080/"
        },
        "id": "PWdqTmwMFYHf",
        "outputId": "9216d7bf-5651-499b-c8f0-b2ccb26d017d"
      },
      "source": [
        "train_std_mean = std_mean_product_per_month_vegetation(train_NDVI,train_GRNDVI,train_SAVI)\r\n",
        "test_std_mean = std_mean_product_per_month_vegetation(test_NDVI,test_GRNDVI,test_SAVI)\r\n",
        "train_std_mean.shape , test_std_mean.shape"
      ],
      "execution_count": 100,
      "outputs": [
        {
          "output_type": "execute_result",
          "data": {
            "text/plain": [
              "((1746, 28), (1055, 28))"
            ]
          },
          "metadata": {
            "tags": []
          },
          "execution_count": 100
        }
      ]
    },
    {
      "cell_type": "markdown",
      "metadata": {
        "id": "d6PoclQCCc17"
      },
      "source": [
        "* **get_Vegetation_indexs_Data**"
      ]
    },
    {
      "cell_type": "code",
      "metadata": {
        "id": "RHY3xo1vEr6q"
      },
      "source": [
        "def get_Vegetation_indexs_Data() :\r\n",
        "\r\n",
        "  # TRAIN\r\n",
        "  NDVI_SAVI = pd.merge(train_NDVI_,train_SAVI_,on='Field_ID',how='left')\r\n",
        "  NDVI_SAVI_EVI = pd.merge(NDVI_SAVI,train_EVI_,on='Field_ID',how='left')\r\n",
        "\r\n",
        "  TRAIN = NDVI_SAVI_EVI.copy()\r\n",
        "  TRAIN = pd.merge(TRAIN,train_std_mean,on='Field_ID',how='left')\r\n",
        "  \r\n",
        "  # TEST\r\n",
        "  NDVI_SAVI = pd.merge(test_NDVI_,test_SAVI_,on='Field_ID',how='left')\r\n",
        "  NDVI_SAVI_EVI = pd.merge(NDVI_SAVI,test_EVI_,on='Field_ID',how='left')\r\n",
        "  \r\n",
        "  TEST = NDVI_SAVI_EVI.copy()\r\n",
        "  TEST = pd.merge(TEST,test_std_mean,on='Field_ID',how='left')\r\n",
        "  \r\n",
        "  return TRAIN, TEST"
      ],
      "execution_count": 101,
      "outputs": []
    },
    {
      "cell_type": "code",
      "metadata": {
        "id": "AAlPBsHyFhPk"
      },
      "source": [
        "train_vegetation_indexs , test_vegetation_indexs  = get_Vegetation_indexs_Data() "
      ],
      "execution_count": 102,
      "outputs": []
    },
    {
      "cell_type": "code",
      "metadata": {
        "colab": {
          "base_uri": "https://localhost:8080/"
        },
        "id": "Miwuk8fGMEH9",
        "outputId": "dcd0033a-f9a5-4495-e67f-6255680be1df"
      },
      "source": [
        "train_vegetation_indexs.shape, test_vegetation_indexs.shape"
      ],
      "execution_count": 103,
      "outputs": [
        {
          "output_type": "execute_result",
          "data": {
            "text/plain": [
              "((1746, 91), (1055, 91))"
            ]
          },
          "metadata": {
            "tags": []
          },
          "execution_count": 103
        }
      ]
    },
    {
      "cell_type": "markdown",
      "metadata": {
        "id": "lBpwLQlVGALS"
      },
      "source": [
        "## 2 - **Red Band Features**"
      ]
    },
    {
      "cell_type": "code",
      "metadata": {
        "id": "qT7mGTR3GTEi"
      },
      "source": [
        "bands = [ ['S2_B7','S2_B5'] ,['S2_B7','S2_B6']] \r\n",
        "names = ['FEATURES_B7_B5','FEATURES_B7_B6']  "
      ],
      "execution_count": 104,
      "outputs": []
    },
    {
      "cell_type": "code",
      "metadata": {
        "colab": {
          "base_uri": "https://localhost:8080/",
          "height": 132,
          "referenced_widgets": [
            "47bfbf2040f949e6997f03945229fcee",
            "f5990636cbb340d4ade5988336e21fba",
            "d92e94c70d3c498e801b6b7ebcca2cb2",
            "5bb0c1da930b4b2d82fabcfc44ee1094",
            "e87b3add18ad49dcac7219bedf94ceba",
            "309fddbdb3454163b28298cefb805cb5",
            "61e012f6f5b144189a1dd5a52ef628b4",
            "3914a5fddbe2441ebeebe55251eaccb5",
            "5d3c47eb7afe4047bcb17e454cf473cc",
            "ac0f71a08d0a4f1b9df2b30643ce5bc7",
            "56e5471755a94baa8177de7b562334c7",
            "2684a42cf23145aeb989ae80e5e40d09",
            "88ab000fe7df4b30b72494143ad5e4fd",
            "9a20520409314f4eb819b521dcfc0c7c",
            "9ed0dbe079834fefaac7cc13e368f92f",
            "c4d8fad6c1f44a60bb56872b59517703"
          ]
        },
        "id": "ynMrtr8LFpqL",
        "outputId": "d7113fcf-78cc-4bd4-e792-52b1ae1d31bb"
      },
      "source": [
        "train_Features = pd.DataFrame([get_features_fromBands(train['Field_ID'].values[fid_idx],bands=bands,Band_Names=names) for fid_idx in tqdm(range(len(train['Field_ID'].values))) ])\r\n",
        "train_Features['Field_ID'] = train['Field_ID'].values\r\n",
        "\r\n",
        "print()\r\n",
        "\r\n",
        "test_Features = pd.DataFrame([get_features_fromBands(ss['Field_ID'].values[fid_idx],folder='image_arrays_test',bands=bands,Band_Names=names) for fid_idx in tqdm(range(len(ss['Field_ID'].values))) ])\r\n",
        "test_Features['Field_ID'] = ss['Field_ID'].values"
      ],
      "execution_count": 105,
      "outputs": [
        {
          "output_type": "display_data",
          "data": {
            "application/vnd.jupyter.widget-view+json": {
              "model_id": "47bfbf2040f949e6997f03945229fcee",
              "version_minor": 0,
              "version_major": 2
            },
            "text/plain": [
              "HBox(children=(FloatProgress(value=0.0, max=1746.0), HTML(value='')))"
            ]
          },
          "metadata": {
            "tags": []
          }
        },
        {
          "output_type": "stream",
          "text": [
            "\n",
            "\n"
          ],
          "name": "stdout"
        },
        {
          "output_type": "display_data",
          "data": {
            "application/vnd.jupyter.widget-view+json": {
              "model_id": "5d3c47eb7afe4047bcb17e454cf473cc",
              "version_minor": 0,
              "version_major": 2
            },
            "text/plain": [
              "HBox(children=(FloatProgress(value=0.0, max=1055.0), HTML(value='')))"
            ]
          },
          "metadata": {
            "tags": []
          }
        },
        {
          "output_type": "stream",
          "text": [
            "\n"
          ],
          "name": "stdout"
        }
      ]
    },
    {
      "cell_type": "code",
      "metadata": {
        "colab": {
          "base_uri": "https://localhost:8080/"
        },
        "id": "CFpxuJf9JVfA",
        "outputId": "b04927d8-c981-4019-85a4-55ae98bf7e0c"
      },
      "source": [
        "train_Features.shape,test_Features.shape"
      ],
      "execution_count": 106,
      "outputs": [
        {
          "output_type": "execute_result",
          "data": {
            "text/plain": [
              "((1746, 25), (1055, 25))"
            ]
          },
          "metadata": {
            "tags": []
          },
          "execution_count": 106
        }
      ]
    },
    {
      "cell_type": "markdown",
      "metadata": {
        "id": "xouroWBXHKp5"
      },
      "source": [
        "## **4 - Create Data**"
      ]
    },
    {
      "cell_type": "code",
      "metadata": {
        "id": "KgPQU7WKG-wR"
      },
      "source": [
        "def Create_data() :\r\n",
        "  train1 = pd.merge(train_vegetation_indexs,train_Features,on='Field_ID',how='left')\r\n",
        "  train2 = pd.merge(train1,additional_,on='Field_ID',how='left')\r\n",
        "\r\n",
        "  test1 = pd.merge(test_vegetation_indexs,test_Features,on='Field_ID',how='left')\r\n",
        "  test2 = pd.merge(test1,additional_,on='Field_ID',how='left')\r\n",
        "\r\n",
        "  return train2,test2"
      ],
      "execution_count": 119,
      "outputs": []
    },
    {
      "cell_type": "code",
      "metadata": {
        "id": "5iMB4-EBH8_R"
      },
      "source": [
        "final_train,final_test = Create_data()"
      ],
      "execution_count": 120,
      "outputs": []
    },
    {
      "cell_type": "code",
      "metadata": {
        "colab": {
          "base_uri": "https://localhost:8080/"
        },
        "id": "yoCpjMRbH_8x",
        "outputId": "341d77d2-0b85-4ebf-fce1-b19bf6bd1774"
      },
      "source": [
        "final_train.shape , final_test.shape"
      ],
      "execution_count": 121,
      "outputs": [
        {
          "output_type": "execute_result",
          "data": {
            "text/plain": [
              "((1746, 126), (1055, 126))"
            ]
          },
          "metadata": {
            "tags": []
          },
          "execution_count": 121
        }
      ]
    },
    {
      "cell_type": "code",
      "metadata": {
        "id": "mkEp0U7BICTq"
      },
      "source": [
        "train = train.reset_index(drop=True)"
      ],
      "execution_count": 122,
      "outputs": []
    },
    {
      "cell_type": "markdown",
      "metadata": {
        "id": "5F0I7_f8IUxR"
      },
      "source": [
        "# **Modeling**"
      ]
    },
    {
      "cell_type": "markdown",
      "metadata": {
        "id": "wCCwyOqUJrOL"
      },
      "source": [
        "## **Xgboost**"
      ]
    },
    {
      "cell_type": "code",
      "metadata": {
        "colab": {
          "base_uri": "https://localhost:8080/"
        },
        "id": "LRILtRvpJrOM",
        "outputId": "ef49a1e6-058d-4a3b-a64c-a16caa896da1"
      },
      "source": [
        "from sklearn.model_selection import KFold\r\n",
        "import xgboost as xgb\r\n",
        "from sklearn.metrics import mean_squared_error\r\n",
        "X, y  = final_train.drop(['Field_ID'],axis=1), train['Yield']\r\n",
        "\r\n",
        "kf = KFold(n_splits =5,shuffle=True,random_state=160)\r\n",
        "feats = pd.DataFrame({'features': X.columns}) \r\n",
        "gbm_predictions = []\r\n",
        "cv_score_ = 0\r\n",
        "oof_preds = np.zeros((train.shape[0],))\r\n",
        "\r\n",
        "\r\n",
        "for i,(tr_index,test_index) in enumerate(kf.split(X,y)):\r\n",
        "  \r\n",
        "  print()\r\n",
        "  print(f'######### FOLD {i+1} / {kf.n_splits} ')\r\n",
        "  \r\n",
        "  X_train,y_train = X.iloc[tr_index,:],y[tr_index]\r\n",
        "  X_test,y_test = X.iloc[test_index,:],y[test_index]\r\n",
        "  \r\n",
        "  gbm = xgb.XGBRegressor(eval_metric = 'rmse',n_estimators = 2000,learning_rate = 0.01,seed=162,random_state = 162,colsample_bytree=0.65)\r\n",
        "\r\n",
        "  gbm.fit(X_train,y_train,eval_set = [(X_test, y_test)],early_stopping_rounds  = 200,verbose=100)\r\n",
        "  \r\n",
        "  cv_score_ += mean_squared_error(y_test, gbm.predict(X_test), squared=False) / kf.n_splits\r\n",
        "  oof_preds[test_index] = gbm.predict(X_test)\r\n",
        "  \r\n",
        "  preds = gbm.predict(final_test[X_train.columns])\r\n",
        "  gbm_predictions.append(preds)\r\n",
        "\r\n",
        "  feats[f'Fold {i}'] = gbm.feature_importances_\r\n",
        "\r\n",
        "feats['Importances'] = feats.mean(axis=1)\r\n",
        "print( ' CV RMSE : ',cv_score_)\r\n",
        "preds_xgb = np.average(gbm_predictions, axis=0)\r\n",
        "print(preds_xgb.shape)"
      ],
      "execution_count": 123,
      "outputs": [
        {
          "output_type": "stream",
          "text": [
            "\n",
            "######### FOLD 1 / 5 \n",
            "[14:13:06] WARNING: /workspace/src/objective/regression_obj.cu:152: reg:linear is now deprecated in favor of reg:squarederror.\n",
            "[0]\tvalidation_0-rmse:3.11271\n",
            "Will train until validation_0-rmse hasn't improved in 200 rounds.\n",
            "[100]\tvalidation_0-rmse:1.8638\n",
            "[200]\tvalidation_0-rmse:1.61477\n",
            "[300]\tvalidation_0-rmse:1.57802\n",
            "[400]\tvalidation_0-rmse:1.57363\n",
            "[500]\tvalidation_0-rmse:1.5732\n",
            "[600]\tvalidation_0-rmse:1.57505\n",
            "Stopping. Best iteration:\n",
            "[411]\tvalidation_0-rmse:1.57284\n",
            "\n",
            "\n",
            "######### FOLD 2 / 5 \n",
            "[14:13:11] WARNING: /workspace/src/objective/regression_obj.cu:152: reg:linear is now deprecated in favor of reg:squarederror.\n",
            "[0]\tvalidation_0-rmse:3.1343\n",
            "Will train until validation_0-rmse hasn't improved in 200 rounds.\n",
            "[100]\tvalidation_0-rmse:1.78927\n",
            "[200]\tvalidation_0-rmse:1.5281\n",
            "[300]\tvalidation_0-rmse:1.49793\n",
            "[400]\tvalidation_0-rmse:1.49551\n",
            "[500]\tvalidation_0-rmse:1.49861\n",
            "Stopping. Best iteration:\n",
            "[333]\tvalidation_0-rmse:1.49458\n",
            "\n",
            "\n",
            "######### FOLD 3 / 5 \n",
            "[14:13:16] WARNING: /workspace/src/objective/regression_obj.cu:152: reg:linear is now deprecated in favor of reg:squarederror.\n",
            "[0]\tvalidation_0-rmse:3.03708\n",
            "Will train until validation_0-rmse hasn't improved in 200 rounds.\n",
            "[100]\tvalidation_0-rmse:1.80943\n",
            "[200]\tvalidation_0-rmse:1.60614\n",
            "[300]\tvalidation_0-rmse:1.59646\n",
            "[400]\tvalidation_0-rmse:1.60688\n",
            "Stopping. Best iteration:\n",
            "[258]\tvalidation_0-rmse:1.59448\n",
            "\n",
            "\n",
            "######### FOLD 4 / 5 \n",
            "[14:13:20] WARNING: /workspace/src/objective/regression_obj.cu:152: reg:linear is now deprecated in favor of reg:squarederror.\n",
            "[0]\tvalidation_0-rmse:3.3653\n",
            "Will train until validation_0-rmse hasn't improved in 200 rounds.\n",
            "[100]\tvalidation_0-rmse:2.04616\n",
            "[200]\tvalidation_0-rmse:1.73152\n",
            "[300]\tvalidation_0-rmse:1.66382\n",
            "[400]\tvalidation_0-rmse:1.6502\n",
            "[500]\tvalidation_0-rmse:1.64878\n",
            "[600]\tvalidation_0-rmse:1.65208\n",
            "Stopping. Best iteration:\n",
            "[448]\tvalidation_0-rmse:1.64808\n",
            "\n",
            "\n",
            "######### FOLD 5 / 5 \n",
            "[14:13:26] WARNING: /workspace/src/objective/regression_obj.cu:152: reg:linear is now deprecated in favor of reg:squarederror.\n",
            "[0]\tvalidation_0-rmse:3.31809\n",
            "Will train until validation_0-rmse hasn't improved in 200 rounds.\n",
            "[100]\tvalidation_0-rmse:2.0023\n",
            "[200]\tvalidation_0-rmse:1.70706\n",
            "[300]\tvalidation_0-rmse:1.65444\n",
            "[400]\tvalidation_0-rmse:1.6507\n",
            "[500]\tvalidation_0-rmse:1.65344\n",
            "Stopping. Best iteration:\n",
            "[381]\tvalidation_0-rmse:1.64894\n",
            "\n",
            " CV RMSE :  1.5917827934134081\n",
            "(1055,)\n"
          ],
          "name": "stdout"
        }
      ]
    },
    {
      "cell_type": "code",
      "metadata": {
        "colab": {
          "base_uri": "https://localhost:8080/",
          "height": 204
        },
        "id": "batBwlKoJrOM",
        "outputId": "a87adae4-b50e-4583-d3ca-806ddc82d618"
      },
      "source": [
        "# Get model predictions\r\n",
        "ss['Yield'] = preds_xgb\r\n",
        "ss.to_csv('CGIAR_Tutorial_Top_4.csv', index=False)  \r\n",
        "ss.head()"
      ],
      "execution_count": 124,
      "outputs": [
        {
          "output_type": "execute_result",
          "data": {
            "text/html": [
              "<div>\n",
              "<style scoped>\n",
              "    .dataframe tbody tr th:only-of-type {\n",
              "        vertical-align: middle;\n",
              "    }\n",
              "\n",
              "    .dataframe tbody tr th {\n",
              "        vertical-align: top;\n",
              "    }\n",
              "\n",
              "    .dataframe thead th {\n",
              "        text-align: right;\n",
              "    }\n",
              "</style>\n",
              "<table border=\"1\" class=\"dataframe\">\n",
              "  <thead>\n",
              "    <tr style=\"text-align: right;\">\n",
              "      <th></th>\n",
              "      <th>Field_ID</th>\n",
              "      <th>Yield</th>\n",
              "    </tr>\n",
              "  </thead>\n",
              "  <tbody>\n",
              "    <tr>\n",
              "      <th>0</th>\n",
              "      <td>E9UZCEA</td>\n",
              "      <td>2.794665</td>\n",
              "    </tr>\n",
              "    <tr>\n",
              "      <th>1</th>\n",
              "      <td>1WGGS1Q</td>\n",
              "      <td>3.011916</td>\n",
              "    </tr>\n",
              "    <tr>\n",
              "      <th>2</th>\n",
              "      <td>EG2KXE2</td>\n",
              "      <td>2.767116</td>\n",
              "    </tr>\n",
              "    <tr>\n",
              "      <th>3</th>\n",
              "      <td>HC3GQXF</td>\n",
              "      <td>2.697184</td>\n",
              "    </tr>\n",
              "    <tr>\n",
              "      <th>4</th>\n",
              "      <td>7AK6GFK</td>\n",
              "      <td>2.662521</td>\n",
              "    </tr>\n",
              "  </tbody>\n",
              "</table>\n",
              "</div>"
            ],
            "text/plain": [
              "  Field_ID     Yield\n",
              "0  E9UZCEA  2.794665\n",
              "1  1WGGS1Q  3.011916\n",
              "2  EG2KXE2  2.767116\n",
              "3  HC3GQXF  2.697184\n",
              "4  7AK6GFK  2.662521"
            ]
          },
          "metadata": {
            "tags": []
          },
          "execution_count": 124
        }
      ]
    },
    {
      "cell_type": "markdown",
      "metadata": {
        "id": "oNOnsWI9JrON"
      },
      "source": [
        "### **Feature_selection**"
      ]
    },
    {
      "cell_type": "code",
      "metadata": {
        "colab": {
          "base_uri": "https://localhost:8080/",
          "height": 938
        },
        "id": "Q4rx0Hc3JrON",
        "outputId": "353347b6-ced4-4884-e148-34197a861a49"
      },
      "source": [
        "plt.figure(figsize=(16, 16))\r\n",
        "sns.barplot(data=feats.sort_values(by='Importances', ascending=False).head(70), x='Importances', y='features');\r\n",
        "plt.title('50 TOP feature importance');"
      ],
      "execution_count": 113,
      "outputs": [
        {
          "output_type": "display_data",
          "data": {
            "image/png": "[encoded data removed]",
            "text/plain": [
              "<Figure size 1152x1152 with 1 Axes>"
            ]
          },
          "metadata": {
            "tags": [],
            "needs_background": "light"
          }
        }
      ]
    }
  ]
}